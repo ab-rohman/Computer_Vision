{
  "nbformat": 4,
  "nbformat_minor": 0,
  "metadata": {
    "colab": {
      "name": "Week10.ipynb",
      "provenance": [],
      "authorship_tag": "ABX9TyNnVz+x+bAbCrXFlmYRLo4s",
      "include_colab_link": true
    },
    "kernelspec": {
      "name": "python3",
      "display_name": "Python 3"
    },
    "language_info": {
      "name": "python"
    }
  },
  "cells": [
    {
      "cell_type": "markdown",
      "metadata": {
        "id": "view-in-github",
        "colab_type": "text"
      },
      "source": [
        "<a href=\"https://colab.research.google.com/github/ab-rohman/Computer_Vision/blob/main/Week10.ipynb\" target=\"_parent\"><img src=\"https://colab.research.google.com/assets/colab-badge.svg\" alt=\"Open In Colab\"/></a>"
      ]
    },
    {
      "cell_type": "code",
      "execution_count": 1,
      "metadata": {
        "id": "6csLGw0zb8p6",
        "colab": {
          "base_uri": "https://localhost:8080/"
        },
        "outputId": "dd0bff98-4903-4be6-f6bc-a1dc8566d920"
      },
      "outputs": [
        {
          "output_type": "stream",
          "name": "stdout",
          "text": [
            "Mounted at /content/drive\n"
          ]
        }
      ],
      "source": [
        "from google.colab import drive\n",
        "\n",
        "drive.mount('/content/drive')"
      ]
    },
    {
      "cell_type": "code",
      "source": [
        "import cv2\n",
        "import numpy as np\n",
        "from matplotlib import pyplot as plt"
      ],
      "metadata": {
        "id": "VvxfJqLZer4u"
      },
      "execution_count": 2,
      "outputs": []
    },
    {
      "cell_type": "code",
      "source": [
        "# Step 3 without library\n",
        "img_src = cv2.imread('/content/drive/MyDrive/Colab Notebooks/Images_PCVK/Images/gradient.jpg', 0)\n",
        "img_thresh1 = cv2.imread('/content/drive/MyDrive/Colab Notebooks/Images_PCVK/Images/gradient.jpg')\n",
        "img_thresh2 = cv2.imread('/content/drive/MyDrive/Colab Notebooks/Images_PCVK/Images/gradient.jpg')\n",
        "img_thresh3 = cv2.imread('/content/drive/MyDrive/Colab Notebooks/Images_PCVK/Images/gradient.jpg')\n",
        "img_thresh4 = cv2.imread('/content/drive/MyDrive/Colab Notebooks/Images_PCVK/Images/gradient.jpg')\n",
        "img_thresh5 = cv2.imread('/content/drive/MyDrive/Colab Notebooks/Images_PCVK/Images/gradient.jpg')\n",
        "thresh_value = 127\n",
        "\n",
        "#Original Image\n",
        "img_thresh1[img_src>thresh_value] = 255\n",
        "img_thresh1[img_src<=thresh_value] = 0\n",
        "\n",
        "#Binary threshold inverse\n",
        "img_thresh2 = 255 - img_thresh1           \n",
        "#Threshold Truncate\n",
        "img_thresh3[img_src>thresh_value] = thresh_value\n",
        "#Threshold Tozero\n",
        "img_thresh4[img_src<=thresh_value] = 0\n",
        "#Threshold Tozero Inverse\n",
        "img_thresh5[img_src>thresh_value] = 0\n",
        "\n",
        "titles = ['Original Image','BINARY','BINARY_INV','TRUNC', 'TOZERO', 'TOZERO_INV']\n",
        "images = [img_src, img_thresh1, img_thresh2, img_thresh3, img_thresh4, img_thresh5]\n",
        "\n",
        "plt.figure(figsize = (15,5))\n",
        "for i in range(len(images)):\n",
        "  plt.subplot(2,3,i+1),plt.imshow(images[i],'gray', interpolation='nearest')\n",
        "  plt.title(titles[i])\n",
        "  plt.xticks([]),plt.yticks([])\n",
        "\n",
        "plt.show()\n"
      ],
      "metadata": {
        "id": "Iyfqx08Bfq6f",
        "colab": {
          "base_uri": "https://localhost:8080/",
          "height": 322
        },
        "outputId": "3abdf985-098f-4fb1-85f0-402baa72f77c"
      },
      "execution_count": 8,
      "outputs": [
        {
          "output_type": "display_data",
          "data": {
            "text/plain": [
              "<Figure size 1080x360 with 6 Axes>"
            ],
            "image/png": "[encoded data removed]"
          },
          "metadata": {}
        }
      ]
    },
    {
      "cell_type": "code",
      "source": [
        "# Step 3 using Library\n",
        "img_src = cv2.imread('/content/drive/MyDrive/Colab Notebooks/Images_PCVK/Images/gradient.jpg')\n",
        "ret,thresh1 = cv2.threshold(img_src,127,255,cv2.THRESH_BINARY)\n",
        "ret,thresh2 = cv2.threshold(img_src,127,255,cv2.THRESH_BINARY_INV)\n",
        "ret,thresh3 = cv2.threshold(img_src,127,255,cv2.THRESH_TRUNC)\n",
        "ret,thresh4 = cv2.threshold(img_src,127,255,cv2.THRESH_TOZERO)\n",
        "ret,thresh5 = cv2.threshold(img_src,127,255,cv2.THRESH_TOZERO_INV)\n",
        "\n",
        "titles = ['Original Image','BINARY','BINARY_INV','TRUNC','TOZERO','TOZERO_INV']\n",
        "images = [img_src, img_thresh1, img_thresh2, img_thresh3, img_thresh4, img_thresh5]\n",
        "\n",
        "for i in range(6):\n",
        "    plt.subplot(2,3,i+1),plt.imshow(images[i],'gray',vmin=0,vmax=255)\n",
        "    plt.title(titles[i])\n",
        "    plt.xticks([]),plt.yticks([])\n",
        "\n",
        "plt.show()"
      ],
      "metadata": {
        "colab": {
          "base_uri": "https://localhost:8080/",
          "height": 223
        },
        "id": "sU7KoDEYwuc_",
        "outputId": "afe39286-2cc3-4ae8-dd7f-f70bcf1571c3"
      },
      "execution_count": 7,
      "outputs": [
        {
          "output_type": "display_data",
          "data": {
            "text/plain": [
              "<Figure size 432x288 with 6 Axes>"
            ],
            "image/png": "[encoded data removed]"
          },
          "metadata": {}
        }
      ]
    }
  ]
}