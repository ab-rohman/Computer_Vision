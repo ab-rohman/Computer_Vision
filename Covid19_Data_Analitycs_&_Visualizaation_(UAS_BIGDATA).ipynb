{
  "nbformat": 4,
  "nbformat_minor": 0,
  "metadata": {
    "colab": {
      "name": "Covid19-Data Analitycs & Visualizaation (UAS BIGDATA).ipynb",
      "provenance": [],
      "authorship_tag": "ABX9TyN+t+x3roDE5tmS/qWC9Gpk",
      "include_colab_link": true
    },
    "kernelspec": {
      "name": "python3",
      "display_name": "Python 3"
    },
    "language_info": {
      "name": "python"
    }
  },
  "cells": [
    {
      "cell_type": "markdown",
      "metadata": {
        "id": "view-in-github",
        "colab_type": "text"
      },
      "source": [
        "<a href=\"https://colab.research.google.com/github/ab-rohman/Computer_Vision/blob/main/Covid19_Data_Analitycs_%26_Visualizaation_(UAS_BIGDATA).ipynb\" target=\"_parent\"><img src=\"https://colab.research.google.com/assets/colab-badge.svg\" alt=\"Open In Colab\"/></a>"
      ]
    },
    {
      "cell_type": "markdown",
      "source": [
        "SEPERTI BIASANYA KITA IMPORT LABRARY2 UTAMA YANG AKAN KITA GUNAKAN NANTI"
      ],
      "metadata": {
        "id": "DKA56G5-HD0r"
      }
    },
    {
      "cell_type": "code",
      "execution_count": 1,
      "metadata": {
        "id": "ziNMm6IyGwrF"
      },
      "outputs": [],
      "source": [
        "import pandas as pd\n",
        "import numpy as np\n",
        "import matplotlib.pyplot as plt\n",
        "import seaborn as sns"
      ]
    },
    {
      "cell_type": "markdown",
      "source": [
        "MOUNTING THE GDRIVE, BECAUSE I UPLOAD THE COVID-19 DATASET TO MY GDRIVE"
      ],
      "metadata": {
        "id": "0H-D2xnmHUah"
      }
    },
    {
      "cell_type": "code",
      "source": [
        "from google.colab import drive\n",
        "\n",
        "drive.mount('/content/drive')"
      ],
      "metadata": {
        "colab": {
          "base_uri": "https://localhost:8080/"
        },
        "id": "TVYza4CdHCA8",
        "outputId": "12aa33cf-b8f9-4041-918e-cf8a299a3abc"
      },
      "execution_count": 3,
      "outputs": [
        {
          "output_type": "stream",
          "name": "stdout",
          "text": [
            "Mounted at /content/drive\n"
          ]
        }
      ]
    },
    {
      "cell_type": "markdown",
      "source": [
        "INSTALLING OPENJDK FOR THE HADOOP ENVIRONTMENT"
      ],
      "metadata": {
        "id": "-q9nvoHqHkao"
      }
    },
    {
      "cell_type": "code",
      "source": [
        "!apt-get install openjdk-8-jdk-headless -qq > /dev/null"
      ],
      "metadata": {
        "id": "e0avOQIkHMZA"
      },
      "execution_count": 4,
      "outputs": []
    },
    {
      "cell_type": "markdown",
      "source": [
        "DOWNLOAD THE HADOOP AND SPARK"
      ],
      "metadata": {
        "id": "HoMbo1WMHxVB"
      }
    },
    {
      "cell_type": "code",
      "source": [
        "!wget -q https://dlcdn.apache.org/spark/spark-3.2.1/spark-3.2.1-bin-hadoop3.2.tgz\n",
        "!tar xf spark-3.2.1-bin-hadoop3.2.tgz"
      ],
      "metadata": {
        "id": "PzHNWGSsHeKE"
      },
      "execution_count": 5,
      "outputs": []
    },
    {
      "cell_type": "code",
      "source": [
        "import os\n",
        "os.environ[\"JAVA_HOME\"] = \"/usr/lib/jvm/java-8-openjdk-amd64\"\n",
        "os.environ[\"SPARK_HOME\"] = \"/content/spark-3.2.1-bin-hadoop3.2\""
      ],
      "metadata": {
        "id": "ZaU59LoXHjDv"
      },
      "execution_count": 7,
      "outputs": []
    },
    {
      "cell_type": "markdown",
      "source": [
        "PySpark isn't on sys.path by default, but that doesn't mean it can't be used as a regular library. You can address this by either symlinking pyspark into your site-packages, or adding pyspark to sys.path at runtime. findspark does the latter.\n",
        "\n",
        "To initialize PySpark, just call"
      ],
      "metadata": {
        "id": "cH5P5gpBIP6E"
      }
    },
    {
      "cell_type": "code",
      "source": [
        "!pip install -q findspark"
      ],
      "metadata": {
        "id": "92z1yGJ0H1XB"
      },
      "execution_count": 8,
      "outputs": []
    },
    {
      "cell_type": "code",
      "source": [
        "import findspark\n",
        "findspark.init()"
      ],
      "metadata": {
        "id": "KQ5n5bYCH3OD"
      },
      "execution_count": 9,
      "outputs": []
    },
    {
      "cell_type": "code",
      "source": [
        "import pyspark\n",
        "from pyspark.rdd import RDD\n",
        "from pyspark.sql import Row\n",
        "from pyspark.sql import DataFrame\n",
        "from pyspark.sql import SparkSession\n",
        "from pyspark.sql import SQLContext\n",
        "from pyspark.sql import functions\n",
        "from pyspark.sql.types import *\n",
        "from pyspark.sql.functions import *\n",
        "\n",
        "from pyspark.ml  import Pipeline     \n",
        "from pyspark.sql.functions import mean,col,split, col, regexp_extract, when, lit"
      ],
      "metadata": {
        "id": "ZLgIS1MBITn_"
      },
      "execution_count": 10,
      "outputs": []
    },
    {
      "cell_type": "code",
      "source": [
        "from pyspark.sql import SparkSession\n",
        "spark = SparkSession.builder\\\n",
        "  .master(\"local\")\\\n",
        "  .appName(\"Colab\")\\\n",
        "  .config('spark.ui.port', '4050')\\\n",
        "  .getOrCreate()"
      ],
      "metadata": {
        "id": "DvMDzTW-IVga"
      },
      "execution_count": 11,
      "outputs": []
    },
    {
      "cell_type": "code",
      "source": [
        "df = spark.read.format('com.databricks.spark.csv').options(header='true', inferschema='true').load(\"/content/drive/MyDrive/BigData/covid_19.csv\",header=True)"
      ],
      "metadata": {
        "id": "9sfYk93_Iaae"
      },
      "execution_count": 12,
      "outputs": []
    },
    {
      "cell_type": "code",
      "source": [
        "df.printSchema()"
      ],
      "metadata": {
        "colab": {
          "base_uri": "https://localhost:8080/"
        },
        "id": "OvymlRgRIt-h",
        "outputId": "3da7f129-95b6-49da-fdc3-22896ede230a"
      },
      "execution_count": 13,
      "outputs": [
        {
          "output_type": "stream",
          "name": "stdout",
          "text": [
            "root\n",
            " |-- SNo: integer (nullable = true)\n",
            " |-- ObservationDate: string (nullable = true)\n",
            " |-- Province/State: string (nullable = true)\n",
            " |-- Country/Region: string (nullable = true)\n",
            " |-- Last Update: string (nullable = true)\n",
            " |-- Confirmed: double (nullable = true)\n",
            " |-- Deaths: double (nullable = true)\n",
            " |-- Recovered: double (nullable = true)\n",
            "\n"
          ]
        }
      ]
    },
    {
      "cell_type": "code",
      "source": [
        "df.show(10)"
      ],
      "metadata": {
        "colab": {
          "base_uri": "https://localhost:8080/"
        },
        "id": "eCnxr99ZI2kv",
        "outputId": "41318ea1-3101-4aad-f6b5-340d2662ddd2"
      },
      "execution_count": 15,
      "outputs": [
        {
          "output_type": "stream",
          "name": "stdout",
          "text": [
            "+---+---------------+--------------+--------------+---------------+---------+------+---------+\n",
            "|SNo|ObservationDate|Province/State|Country/Region|    Last Update|Confirmed|Deaths|Recovered|\n",
            "+---+---------------+--------------+--------------+---------------+---------+------+---------+\n",
            "|  1|     01/22/2020|         Anhui|Mainland China|1/22/2020 17:00|      1.0|   0.0|      0.0|\n",
            "|  2|     01/22/2020|       Beijing|Mainland China|1/22/2020 17:00|     14.0|   0.0|      0.0|\n",
            "|  3|     01/22/2020|     Chongqing|Mainland China|1/22/2020 17:00|      6.0|   0.0|      0.0|\n",
            "|  4|     01/22/2020|        Fujian|Mainland China|1/22/2020 17:00|      1.0|   0.0|      0.0|\n",
            "|  5|     01/22/2020|         Gansu|Mainland China|1/22/2020 17:00|      0.0|   0.0|      0.0|\n",
            "|  6|     01/22/2020|     Guangdong|Mainland China|1/22/2020 17:00|     26.0|   0.0|      0.0|\n",
            "|  7|     01/22/2020|       Guangxi|Mainland China|1/22/2020 17:00|      2.0|   0.0|      0.0|\n",
            "|  8|     01/22/2020|       Guizhou|Mainland China|1/22/2020 17:00|      1.0|   0.0|      0.0|\n",
            "|  9|     01/22/2020|        Hainan|Mainland China|1/22/2020 17:00|      4.0|   0.0|      0.0|\n",
            "| 10|     01/22/2020|         Hebei|Mainland China|1/22/2020 17:00|      1.0|   0.0|      0.0|\n",
            "+---+---------------+--------------+--------------+---------------+---------+------+---------+\n",
            "only showing top 10 rows\n",
            "\n"
          ]
        }
      ]
    },
    {
      "cell_type": "code",
      "source": [
        "Province = df.select('Province/State').fillna('Unknown')\n",
        "df = df.fillna({'Province/State':'Unknown'})"
      ],
      "metadata": {
        "id": "4ABIwO8YI6LU"
      },
      "execution_count": 17,
      "outputs": []
    },
    {
      "cell_type": "code",
      "source": [
        "df.show(40)"
      ],
      "metadata": {
        "colab": {
          "base_uri": "https://localhost:8080/"
        },
        "id": "hTYXZiy1JxPi",
        "outputId": "ada07981-c476-4182-ef0f-1368916f8a98"
      },
      "execution_count": 18,
      "outputs": [
        {
          "output_type": "stream",
          "name": "stdout",
          "text": [
            "+---+---------------+--------------+--------------+---------------+---------+------+---------+\n",
            "|SNo|ObservationDate|Province/State|Country/Region|    Last Update|Confirmed|Deaths|Recovered|\n",
            "+---+---------------+--------------+--------------+---------------+---------+------+---------+\n",
            "|  1|     01/22/2020|         Anhui|Mainland China|1/22/2020 17:00|      1.0|   0.0|      0.0|\n",
            "|  2|     01/22/2020|       Beijing|Mainland China|1/22/2020 17:00|     14.0|   0.0|      0.0|\n",
            "|  3|     01/22/2020|     Chongqing|Mainland China|1/22/2020 17:00|      6.0|   0.0|      0.0|\n",
            "|  4|     01/22/2020|        Fujian|Mainland China|1/22/2020 17:00|      1.0|   0.0|      0.0|\n",
            "|  5|     01/22/2020|         Gansu|Mainland China|1/22/2020 17:00|      0.0|   0.0|      0.0|\n",
            "|  6|     01/22/2020|     Guangdong|Mainland China|1/22/2020 17:00|     26.0|   0.0|      0.0|\n",
            "|  7|     01/22/2020|       Guangxi|Mainland China|1/22/2020 17:00|      2.0|   0.0|      0.0|\n",
            "|  8|     01/22/2020|       Guizhou|Mainland China|1/22/2020 17:00|      1.0|   0.0|      0.0|\n",
            "|  9|     01/22/2020|        Hainan|Mainland China|1/22/2020 17:00|      4.0|   0.0|      0.0|\n",
            "| 10|     01/22/2020|         Hebei|Mainland China|1/22/2020 17:00|      1.0|   0.0|      0.0|\n",
            "| 11|     01/22/2020|  Heilongjiang|Mainland China|1/22/2020 17:00|      0.0|   0.0|      0.0|\n",
            "| 12|     01/22/2020|         Henan|Mainland China|1/22/2020 17:00|      5.0|   0.0|      0.0|\n",
            "| 13|     01/22/2020|     Hong Kong|     Hong Kong|1/22/2020 17:00|      0.0|   0.0|      0.0|\n",
            "| 14|     01/22/2020|         Hubei|Mainland China|1/22/2020 17:00|    444.0|  17.0|     28.0|\n",
            "| 15|     01/22/2020|         Hunan|Mainland China|1/22/2020 17:00|      4.0|   0.0|      0.0|\n",
            "| 16|     01/22/2020|Inner Mongolia|Mainland China|1/22/2020 17:00|      0.0|   0.0|      0.0|\n",
            "| 17|     01/22/2020|       Jiangsu|Mainland China|1/22/2020 17:00|      1.0|   0.0|      0.0|\n",
            "| 18|     01/22/2020|       Jiangxi|Mainland China|1/22/2020 17:00|      2.0|   0.0|      0.0|\n",
            "| 19|     01/22/2020|         Jilin|Mainland China|1/22/2020 17:00|      0.0|   0.0|      0.0|\n",
            "| 20|     01/22/2020|      Liaoning|Mainland China|1/22/2020 17:00|      2.0|   0.0|      0.0|\n",
            "| 21|     01/22/2020|         Macau|         Macau|1/22/2020 17:00|      1.0|   0.0|      0.0|\n",
            "| 22|     01/22/2020|       Ningxia|Mainland China|1/22/2020 17:00|      1.0|   0.0|      0.0|\n",
            "| 23|     01/22/2020|       Qinghai|Mainland China|1/22/2020 17:00|      0.0|   0.0|      0.0|\n",
            "| 24|     01/22/2020|       Shaanxi|Mainland China|1/22/2020 17:00|      0.0|   0.0|      0.0|\n",
            "| 25|     01/22/2020|      Shandong|Mainland China|1/22/2020 17:00|      2.0|   0.0|      0.0|\n",
            "| 26|     01/22/2020|      Shanghai|Mainland China|1/22/2020 17:00|      9.0|   0.0|      0.0|\n",
            "| 27|     01/22/2020|        Shanxi|Mainland China|1/22/2020 17:00|      1.0|   0.0|      0.0|\n",
            "| 28|     01/22/2020|       Sichuan|Mainland China|1/22/2020 17:00|      5.0|   0.0|      0.0|\n",
            "| 29|     01/22/2020|        Taiwan|        Taiwan|1/22/2020 17:00|      1.0|   0.0|      0.0|\n",
            "| 30|     01/22/2020|       Tianjin|Mainland China|1/22/2020 17:00|      4.0|   0.0|      0.0|\n",
            "| 31|     01/22/2020|         Tibet|Mainland China|1/22/2020 17:00|      0.0|   0.0|      0.0|\n",
            "| 32|     01/22/2020|    Washington|            US|1/22/2020 17:00|      1.0|   0.0|      0.0|\n",
            "| 33|     01/22/2020|      Xinjiang|Mainland China|1/22/2020 17:00|      0.0|   0.0|      0.0|\n",
            "| 34|     01/22/2020|        Yunnan|Mainland China|1/22/2020 17:00|      1.0|   0.0|      0.0|\n",
            "| 35|     01/22/2020|      Zhejiang|Mainland China|1/22/2020 17:00|     10.0|   0.0|      0.0|\n",
            "| 36|     01/22/2020|       Unknown|         Japan|1/22/2020 17:00|      2.0|   0.0|      0.0|\n",
            "| 37|     01/22/2020|       Unknown|      Thailand|1/22/2020 17:00|      2.0|   0.0|      0.0|\n",
            "| 38|     01/22/2020|       Unknown|   South Korea|1/22/2020 17:00|      1.0|   0.0|      0.0|\n",
            "| 39|     01/23/2020|         Anhui|Mainland China|  1/23/20 17:00|      9.0|   0.0|      0.0|\n",
            "| 40|     01/23/2020|       Beijing|Mainland China|  1/23/20 17:00|     22.0|   0.0|      0.0|\n",
            "+---+---------------+--------------+--------------+---------------+---------+------+---------+\n",
            "only showing top 40 rows\n",
            "\n"
          ]
        }
      ]
    },
    {
      "cell_type": "code",
      "source": [
        ""
      ],
      "metadata": {
        "id": "JsOGCqsBJzLr"
      },
      "execution_count": null,
      "outputs": []
    }
  ]
}