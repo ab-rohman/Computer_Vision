{
  "nbformat": 4,
  "nbformat_minor": 0,
  "metadata": {
    "colab": {
      "name": "Covid19-Data Analitycs & Visualizaation (UAS BIGDATA).ipynb",
      "provenance": [],
      "collapsed_sections": [],
      "authorship_tag": "ABX9TyNb53GJxQ+i1R6ebLx1swoF",
      "include_colab_link": true
    },
    "kernelspec": {
      "name": "python3",
      "display_name": "Python 3"
    },
    "language_info": {
      "name": "python"
    }
  },
  "cells": [
    {
      "cell_type": "markdown",
      "metadata": {
        "id": "view-in-github",
        "colab_type": "text"
      },
      "source": [
        "<a href=\"https://colab.research.google.com/github/ab-rohman/Computer_Vision/blob/main/Covid19_Data_Analitycs_%26_Visualizaation_(UAS_BIGDATA).ipynb\" target=\"_parent\"><img src=\"https://colab.research.google.com/assets/colab-badge.svg\" alt=\"Open In Colab\"/></a>"
      ]
    },
    {
      "cell_type": "markdown",
      "source": [
        "SEPERTI BIASANYA KITA IMPORT LABRARY2 UTAMA YANG AKAN KITA GUNAKAN NANTI"
      ],
      "metadata": {
        "id": "DKA56G5-HD0r"
      }
    },
    {
      "cell_type": "code",
      "execution_count": 1,
      "metadata": {
        "id": "ziNMm6IyGwrF"
      },
      "outputs": [],
      "source": [
        "import pandas as pd\n",
        "import numpy as np\n",
        "import matplotlib.pyplot as plt\n",
        "import seaborn as sns"
      ]
    },
    {
      "cell_type": "markdown",
      "source": [
        "MOUNTING THE GDRIVE, BECAUSE I UPLOAD THE COVID-19 DATASET TO MY GDRIVE"
      ],
      "metadata": {
        "id": "0H-D2xnmHUah"
      }
    },
    {
      "cell_type": "code",
      "source": [
        "from google.colab import drive\n",
        "\n",
        "drive.mount('/content/drive')"
      ],
      "metadata": {
        "colab": {
          "base_uri": "https://localhost:8080/"
        },
        "id": "TVYza4CdHCA8",
        "outputId": "12aa33cf-b8f9-4041-918e-cf8a299a3abc"
      },
      "execution_count": 3,
      "outputs": [
        {
          "output_type": "stream",
          "name": "stdout",
          "text": [
            "Mounted at /content/drive\n"
          ]
        }
      ]
    },
    {
      "cell_type": "markdown",
      "source": [
        "INSTALLING OPENJDK FOR THE HADOOP ENVIRONTMENT"
      ],
      "metadata": {
        "id": "-q9nvoHqHkao"
      }
    },
    {
      "cell_type": "code",
      "source": [
        "!apt-get install openjdk-8-jdk-headless -qq > /dev/null"
      ],
      "metadata": {
        "id": "e0avOQIkHMZA"
      },
      "execution_count": 4,
      "outputs": []
    },
    {
      "cell_type": "markdown",
      "source": [
        "DOWNLOAD THE HADOOP AND SPARK"
      ],
      "metadata": {
        "id": "HoMbo1WMHxVB"
      }
    },
    {
      "cell_type": "code",
      "source": [
        "!wget -q https://dlcdn.apache.org/spark/spark-3.2.1/spark-3.2.1-bin-hadoop3.2.tgz\n",
        "!tar xf spark-3.2.1-bin-hadoop3.2.tgz"
      ],
      "metadata": {
        "id": "PzHNWGSsHeKE"
      },
      "execution_count": 5,
      "outputs": []
    },
    {
      "cell_type": "code",
      "source": [
        "import os\n",
        "os.environ[\"JAVA_HOME\"] = \"/usr/lib/jvm/java-8-openjdk-amd64\"\n",
        "os.environ[\"SPARK_HOME\"] = \"/content/spark-3.2.1-bin-hadoop3.2\""
      ],
      "metadata": {
        "id": "ZaU59LoXHjDv"
      },
      "execution_count": 7,
      "outputs": []
    },
    {
      "cell_type": "markdown",
      "source": [
        "PySpark isn't on sys.path by default, but that doesn't mean it can't be used as a regular library. You can address this by either symlinking pyspark into your site-packages, or adding pyspark to sys.path at runtime. findspark does the latter.\n",
        "\n",
        "To initialize PySpark, just call"
      ],
      "metadata": {
        "id": "cH5P5gpBIP6E"
      }
    },
    {
      "cell_type": "code",
      "source": [
        "!pip install -q findspark"
      ],
      "metadata": {
        "id": "92z1yGJ0H1XB"
      },
      "execution_count": 8,
      "outputs": []
    },
    {
      "cell_type": "code",
      "source": [
        "import findspark\n",
        "findspark.init()"
      ],
      "metadata": {
        "id": "KQ5n5bYCH3OD"
      },
      "execution_count": 9,
      "outputs": []
    },
    {
      "cell_type": "code",
      "source": [
        "import pyspark\n",
        "from pyspark.rdd import RDD\n",
        "from pyspark.sql import Row\n",
        "from pyspark.sql import DataFrame\n",
        "from pyspark.sql import SparkSession\n",
        "from pyspark.sql import SQLContext\n",
        "from pyspark.sql import functions as F\n",
        "from pyspark.sql.types import *\n",
        "from pyspark.sql.functions import *\n",
        "\n",
        "from pyspark.ml  import Pipeline     \n",
        "from pyspark.sql.functions import mean,col,split, col, regexp_extract, when, lit"
      ],
      "metadata": {
        "id": "ZLgIS1MBITn_"
      },
      "execution_count": 25,
      "outputs": []
    },
    {
      "cell_type": "code",
      "source": [
        "from pyspark.sql import SparkSession\n",
        "spark = SparkSession.builder\\\n",
        "  .master(\"local\")\\\n",
        "  .appName(\"Colab\")\\\n",
        "  .config('spark.ui.port', '4050')\\\n",
        "  .getOrCreate()"
      ],
      "metadata": {
        "id": "DvMDzTW-IVga"
      },
      "execution_count": 11,
      "outputs": []
    },
    {
      "cell_type": "code",
      "source": [
        "df = spark.read.format('com.databricks.spark.csv').options(header='true', inferschema='true').load(\"/content/drive/MyDrive/BigData/covid_19.csv\",header=True)"
      ],
      "metadata": {
        "id": "9sfYk93_Iaae"
      },
      "execution_count": 12,
      "outputs": []
    },
    {
      "cell_type": "code",
      "source": [
        "df.printSchema()"
      ],
      "metadata": {
        "colab": {
          "base_uri": "https://localhost:8080/"
        },
        "id": "OvymlRgRIt-h",
        "outputId": "3da7f129-95b6-49da-fdc3-22896ede230a"
      },
      "execution_count": 13,
      "outputs": [
        {
          "output_type": "stream",
          "name": "stdout",
          "text": [
            "root\n",
            " |-- SNo: integer (nullable = true)\n",
            " |-- ObservationDate: string (nullable = true)\n",
            " |-- Province/State: string (nullable = true)\n",
            " |-- Country/Region: string (nullable = true)\n",
            " |-- Last Update: string (nullable = true)\n",
            " |-- Confirmed: double (nullable = true)\n",
            " |-- Deaths: double (nullable = true)\n",
            " |-- Recovered: double (nullable = true)\n",
            "\n"
          ]
        }
      ]
    },
    {
      "cell_type": "code",
      "source": [
        "df.show(10)"
      ],
      "metadata": {
        "colab": {
          "base_uri": "https://localhost:8080/"
        },
        "id": "eCnxr99ZI2kv",
        "outputId": "41318ea1-3101-4aad-f6b5-340d2662ddd2"
      },
      "execution_count": 15,
      "outputs": [
        {
          "output_type": "stream",
          "name": "stdout",
          "text": [
            "+---+---------------+--------------+--------------+---------------+---------+------+---------+\n",
            "|SNo|ObservationDate|Province/State|Country/Region|    Last Update|Confirmed|Deaths|Recovered|\n",
            "+---+---------------+--------------+--------------+---------------+---------+------+---------+\n",
            "|  1|     01/22/2020|         Anhui|Mainland China|1/22/2020 17:00|      1.0|   0.0|      0.0|\n",
            "|  2|     01/22/2020|       Beijing|Mainland China|1/22/2020 17:00|     14.0|   0.0|      0.0|\n",
            "|  3|     01/22/2020|     Chongqing|Mainland China|1/22/2020 17:00|      6.0|   0.0|      0.0|\n",
            "|  4|     01/22/2020|        Fujian|Mainland China|1/22/2020 17:00|      1.0|   0.0|      0.0|\n",
            "|  5|     01/22/2020|         Gansu|Mainland China|1/22/2020 17:00|      0.0|   0.0|      0.0|\n",
            "|  6|     01/22/2020|     Guangdong|Mainland China|1/22/2020 17:00|     26.0|   0.0|      0.0|\n",
            "|  7|     01/22/2020|       Guangxi|Mainland China|1/22/2020 17:00|      2.0|   0.0|      0.0|\n",
            "|  8|     01/22/2020|       Guizhou|Mainland China|1/22/2020 17:00|      1.0|   0.0|      0.0|\n",
            "|  9|     01/22/2020|        Hainan|Mainland China|1/22/2020 17:00|      4.0|   0.0|      0.0|\n",
            "| 10|     01/22/2020|         Hebei|Mainland China|1/22/2020 17:00|      1.0|   0.0|      0.0|\n",
            "+---+---------------+--------------+--------------+---------------+---------+------+---------+\n",
            "only showing top 10 rows\n",
            "\n"
          ]
        }
      ]
    },
    {
      "cell_type": "code",
      "source": [
        "Province = df.select('Province/State').fillna('Unknown')\n",
        "df = df.fillna({'Province/State':'Unknown'})"
      ],
      "metadata": {
        "id": "4ABIwO8YI6LU"
      },
      "execution_count": 17,
      "outputs": []
    },
    {
      "cell_type": "code",
      "source": [
        "df.show(40)"
      ],
      "metadata": {
        "colab": {
          "base_uri": "https://localhost:8080/"
        },
        "id": "hTYXZiy1JxPi",
        "outputId": "ada07981-c476-4182-ef0f-1368916f8a98"
      },
      "execution_count": 18,
      "outputs": [
        {
          "output_type": "stream",
          "name": "stdout",
          "text": [
            "+---+---------------+--------------+--------------+---------------+---------+------+---------+\n",
            "|SNo|ObservationDate|Province/State|Country/Region|    Last Update|Confirmed|Deaths|Recovered|\n",
            "+---+---------------+--------------+--------------+---------------+---------+------+---------+\n",
            "|  1|     01/22/2020|         Anhui|Mainland China|1/22/2020 17:00|      1.0|   0.0|      0.0|\n",
            "|  2|     01/22/2020|       Beijing|Mainland China|1/22/2020 17:00|     14.0|   0.0|      0.0|\n",
            "|  3|     01/22/2020|     Chongqing|Mainland China|1/22/2020 17:00|      6.0|   0.0|      0.0|\n",
            "|  4|     01/22/2020|        Fujian|Mainland China|1/22/2020 17:00|      1.0|   0.0|      0.0|\n",
            "|  5|     01/22/2020|         Gansu|Mainland China|1/22/2020 17:00|      0.0|   0.0|      0.0|\n",
            "|  6|     01/22/2020|     Guangdong|Mainland China|1/22/2020 17:00|     26.0|   0.0|      0.0|\n",
            "|  7|     01/22/2020|       Guangxi|Mainland China|1/22/2020 17:00|      2.0|   0.0|      0.0|\n",
            "|  8|     01/22/2020|       Guizhou|Mainland China|1/22/2020 17:00|      1.0|   0.0|      0.0|\n",
            "|  9|     01/22/2020|        Hainan|Mainland China|1/22/2020 17:00|      4.0|   0.0|      0.0|\n",
            "| 10|     01/22/2020|         Hebei|Mainland China|1/22/2020 17:00|      1.0|   0.0|      0.0|\n",
            "| 11|     01/22/2020|  Heilongjiang|Mainland China|1/22/2020 17:00|      0.0|   0.0|      0.0|\n",
            "| 12|     01/22/2020|         Henan|Mainland China|1/22/2020 17:00|      5.0|   0.0|      0.0|\n",
            "| 13|     01/22/2020|     Hong Kong|     Hong Kong|1/22/2020 17:00|      0.0|   0.0|      0.0|\n",
            "| 14|     01/22/2020|         Hubei|Mainland China|1/22/2020 17:00|    444.0|  17.0|     28.0|\n",
            "| 15|     01/22/2020|         Hunan|Mainland China|1/22/2020 17:00|      4.0|   0.0|      0.0|\n",
            "| 16|     01/22/2020|Inner Mongolia|Mainland China|1/22/2020 17:00|      0.0|   0.0|      0.0|\n",
            "| 17|     01/22/2020|       Jiangsu|Mainland China|1/22/2020 17:00|      1.0|   0.0|      0.0|\n",
            "| 18|     01/22/2020|       Jiangxi|Mainland China|1/22/2020 17:00|      2.0|   0.0|      0.0|\n",
            "| 19|     01/22/2020|         Jilin|Mainland China|1/22/2020 17:00|      0.0|   0.0|      0.0|\n",
            "| 20|     01/22/2020|      Liaoning|Mainland China|1/22/2020 17:00|      2.0|   0.0|      0.0|\n",
            "| 21|     01/22/2020|         Macau|         Macau|1/22/2020 17:00|      1.0|   0.0|      0.0|\n",
            "| 22|     01/22/2020|       Ningxia|Mainland China|1/22/2020 17:00|      1.0|   0.0|      0.0|\n",
            "| 23|     01/22/2020|       Qinghai|Mainland China|1/22/2020 17:00|      0.0|   0.0|      0.0|\n",
            "| 24|     01/22/2020|       Shaanxi|Mainland China|1/22/2020 17:00|      0.0|   0.0|      0.0|\n",
            "| 25|     01/22/2020|      Shandong|Mainland China|1/22/2020 17:00|      2.0|   0.0|      0.0|\n",
            "| 26|     01/22/2020|      Shanghai|Mainland China|1/22/2020 17:00|      9.0|   0.0|      0.0|\n",
            "| 27|     01/22/2020|        Shanxi|Mainland China|1/22/2020 17:00|      1.0|   0.0|      0.0|\n",
            "| 28|     01/22/2020|       Sichuan|Mainland China|1/22/2020 17:00|      5.0|   0.0|      0.0|\n",
            "| 29|     01/22/2020|        Taiwan|        Taiwan|1/22/2020 17:00|      1.0|   0.0|      0.0|\n",
            "| 30|     01/22/2020|       Tianjin|Mainland China|1/22/2020 17:00|      4.0|   0.0|      0.0|\n",
            "| 31|     01/22/2020|         Tibet|Mainland China|1/22/2020 17:00|      0.0|   0.0|      0.0|\n",
            "| 32|     01/22/2020|    Washington|            US|1/22/2020 17:00|      1.0|   0.0|      0.0|\n",
            "| 33|     01/22/2020|      Xinjiang|Mainland China|1/22/2020 17:00|      0.0|   0.0|      0.0|\n",
            "| 34|     01/22/2020|        Yunnan|Mainland China|1/22/2020 17:00|      1.0|   0.0|      0.0|\n",
            "| 35|     01/22/2020|      Zhejiang|Mainland China|1/22/2020 17:00|     10.0|   0.0|      0.0|\n",
            "| 36|     01/22/2020|       Unknown|         Japan|1/22/2020 17:00|      2.0|   0.0|      0.0|\n",
            "| 37|     01/22/2020|       Unknown|      Thailand|1/22/2020 17:00|      2.0|   0.0|      0.0|\n",
            "| 38|     01/22/2020|       Unknown|   South Korea|1/22/2020 17:00|      1.0|   0.0|      0.0|\n",
            "| 39|     01/23/2020|         Anhui|Mainland China|  1/23/20 17:00|      9.0|   0.0|      0.0|\n",
            "| 40|     01/23/2020|       Beijing|Mainland China|  1/23/20 17:00|     22.0|   0.0|      0.0|\n",
            "+---+---------------+--------------+--------------+---------------+---------+------+---------+\n",
            "only showing top 40 rows\n",
            "\n"
          ]
        }
      ]
    },
    {
      "cell_type": "markdown",
      "source": [
        "I will just tring to change some data"
      ],
      "metadata": {
        "id": "GDuT1vphKnWK"
      }
    },
    {
      "cell_type": "code",
      "source": [
        "df = df.withColumn('Country/Region', regexp_replace('Country/Region', 'Mainland China', 'China'))"
      ],
      "metadata": {
        "id": "JsOGCqsBJzLr"
      },
      "execution_count": 19,
      "outputs": []
    },
    {
      "cell_type": "code",
      "source": [
        "df.show(5)"
      ],
      "metadata": {
        "colab": {
          "base_uri": "https://localhost:8080/"
        },
        "id": "tYPQfNBFKYLh",
        "outputId": "089ba3dd-2e30-4e8f-f6fe-cc2ad896620b"
      },
      "execution_count": 20,
      "outputs": [
        {
          "output_type": "stream",
          "name": "stdout",
          "text": [
            "+---+---------------+--------------+--------------+---------------+---------+------+---------+\n",
            "|SNo|ObservationDate|Province/State|Country/Region|    Last Update|Confirmed|Deaths|Recovered|\n",
            "+---+---------------+--------------+--------------+---------------+---------+------+---------+\n",
            "|  1|     01/22/2020|         Anhui|         China|1/22/2020 17:00|      1.0|   0.0|      0.0|\n",
            "|  2|     01/22/2020|       Beijing|         China|1/22/2020 17:00|     14.0|   0.0|      0.0|\n",
            "|  3|     01/22/2020|     Chongqing|         China|1/22/2020 17:00|      6.0|   0.0|      0.0|\n",
            "|  4|     01/22/2020|        Fujian|         China|1/22/2020 17:00|      1.0|   0.0|      0.0|\n",
            "|  5|     01/22/2020|         Gansu|         China|1/22/2020 17:00|      0.0|   0.0|      0.0|\n",
            "+---+---------------+--------------+--------------+---------------+---------+------+---------+\n",
            "only showing top 5 rows\n",
            "\n"
          ]
        }
      ]
    },
    {
      "cell_type": "markdown",
      "source": [
        "in here I add new column (for the Active cases only) that I called active cases just to make it easier to analyze the data"
      ],
      "metadata": {
        "id": "uA4XsBvZLLSo"
      }
    },
    {
      "cell_type": "code",
      "source": [
        "df = df.withColumn(\"Active_case\", df['Confirmed'] - df['Deaths'] - df['Recovered'])"
      ],
      "metadata": {
        "id": "7uIqnaX2Kbqu"
      },
      "execution_count": 21,
      "outputs": []
    },
    {
      "cell_type": "code",
      "source": [
        "df.show(5)"
      ],
      "metadata": {
        "colab": {
          "base_uri": "https://localhost:8080/"
        },
        "id": "2aHiL3uCLKau",
        "outputId": "e61a734a-84f6-4c66-d071-aea467a6318d"
      },
      "execution_count": 22,
      "outputs": [
        {
          "output_type": "stream",
          "name": "stdout",
          "text": [
            "+---+---------------+--------------+--------------+---------------+---------+------+---------+-----------+\n",
            "|SNo|ObservationDate|Province/State|Country/Region|    Last Update|Confirmed|Deaths|Recovered|Active_case|\n",
            "+---+---------------+--------------+--------------+---------------+---------+------+---------+-----------+\n",
            "|  1|     01/22/2020|         Anhui|         China|1/22/2020 17:00|      1.0|   0.0|      0.0|        1.0|\n",
            "|  2|     01/22/2020|       Beijing|         China|1/22/2020 17:00|     14.0|   0.0|      0.0|       14.0|\n",
            "|  3|     01/22/2020|     Chongqing|         China|1/22/2020 17:00|      6.0|   0.0|      0.0|        6.0|\n",
            "|  4|     01/22/2020|        Fujian|         China|1/22/2020 17:00|      1.0|   0.0|      0.0|        1.0|\n",
            "|  5|     01/22/2020|         Gansu|         China|1/22/2020 17:00|      0.0|   0.0|      0.0|        0.0|\n",
            "+---+---------------+--------------+--------------+---------------+---------+------+---------+-----------+\n",
            "only showing top 5 rows\n",
            "\n"
          ]
        }
      ]
    },
    {
      "cell_type": "markdown",
      "source": [
        "### **START ANALITYCS**"
      ],
      "metadata": {
        "id": "5NnTee_JNf8g"
      }
    },
    {
      "cell_type": "markdown",
      "source": [
        "A. Analyze perkembangan kasus covid tiap hari"
      ],
      "metadata": {
        "id": "zuw6kpvJNmXJ"
      }
    },
    {
      "cell_type": "code",
      "source": [
        "max_date =  df.select(max(\"ObservationDate\")).first()\n",
        "group = df.groupBy(\"ObservationDate\")\n",
        "group_data = group.agg({'Confirmed':'sum', 'Deaths':'sum', 'Recovered':'sum', 'Active_case':'sum'}).sort(col(\"ObservationDate\"))\n",
        "group_data.show()"
      ],
      "metadata": {
        "colab": {
          "base_uri": "https://localhost:8080/"
        },
        "id": "94NdXqG3LcOB",
        "outputId": "798adde4-eab3-44fb-a26b-8f45d13a285e"
      },
      "execution_count": 23,
      "outputs": [
        {
          "output_type": "stream",
          "name": "stdout",
          "text": [
            "+---------------+--------------+-----------+--------------+----------------+\n",
            "|ObservationDate|sum(Recovered)|sum(Deaths)|sum(Confirmed)|sum(Active_case)|\n",
            "+---------------+--------------+-----------+--------------+----------------+\n",
            "|     01/22/2020|          28.0|       17.0|         555.0|           510.0|\n",
            "|     01/23/2020|          30.0|       18.0|         653.0|           605.0|\n",
            "|     01/24/2020|          36.0|       26.0|         941.0|           879.0|\n",
            "|     01/25/2020|          39.0|       42.0|        1438.0|          1357.0|\n",
            "|     01/26/2020|          52.0|       56.0|        2118.0|          2010.0|\n",
            "|     01/27/2020|          61.0|       82.0|        2927.0|          2784.0|\n",
            "|     01/28/2020|         107.0|      131.0|        5578.0|          5340.0|\n",
            "|     01/29/2020|         126.0|      133.0|        6165.0|          5906.0|\n",
            "|     01/30/2020|         143.0|      171.0|        8235.0|          7921.0|\n",
            "|     01/31/2020|         222.0|      213.0|        9925.0|          9490.0|\n",
            "|     02/01/2020|         284.0|      259.0|       12038.0|         11495.0|\n",
            "|     02/02/2020|         472.0|      362.0|       16787.0|         15953.0|\n",
            "|     02/03/2020|         623.0|      426.0|       19881.0|         18832.0|\n",
            "|     02/04/2020|         852.0|      492.0|       23892.0|         22548.0|\n",
            "|     02/05/2020|        1124.0|      564.0|       27636.0|         25948.0|\n",
            "|     02/06/2020|        1487.0|      634.0|       30818.0|         28697.0|\n",
            "|     02/07/2020|        2011.0|      719.0|       34392.0|         31662.0|\n",
            "|     02/08/2020|        2616.0|      806.0|       37121.0|         33699.0|\n",
            "|     02/09/2020|        3244.0|      906.0|       40151.0|         36001.0|\n",
            "|     02/10/2020|        3946.0|     1013.0|       42763.0|         37804.0|\n",
            "+---------------+--------------+-----------+--------------+----------------+\n",
            "only showing top 20 rows\n",
            "\n"
          ]
        }
      ]
    },
    {
      "cell_type": "code",
      "source": [
        "group_data=group_data.toPandas()\n",
        "import matplotlib.pyplot as plt\n",
        "ObservationDate = group_data['ObservationDate']\n",
        "Recovered = group_data['sum(Recovered)']\n",
        "Deaths = group_data['sum(Deaths)']\n",
        "Confirmed = group_data['sum(Confirmed)']\n",
        "Active_case = group_data['sum(Active_case)']\n",
        "plt.figure(figsize=(20,10))\n",
        "l1, = plt.plot(ObservationDate, Recovered, color='g')\n",
        "l2, = plt.plot(ObservationDate, Deaths, color='r')\n",
        "l3, = plt.plot(ObservationDate, Confirmed, color='b')\n",
        "l4, = plt.plot(ObservationDate, Active_case, color='orange')\n",
        "patches = [l1,l2,l3,l4]\n",
        "labels = ['Total Recovered', 'Total Deaths', 'Total Confirmed', 'Total Active_case']\n",
        "plt.legend(patches, labels, loc=\"best\")\n",
        "plt.xlabel('Date')\n",
        "plt.ylabel('Total cases')\n",
        "plt.title('Statistic of Covid Data each day')\n",
        "plt.xticks(rotation=90)\n",
        "plt.show()"
      ],
      "metadata": {
        "colab": {
          "base_uri": "https://localhost:8080/",
          "height": 669
        },
        "id": "I_bVSbZVMi8B",
        "outputId": "edf9c7ed-0992-4847-d610-e72e0b27dfae"
      },
      "execution_count": 24,
      "outputs": [
        {
          "output_type": "display_data",
          "data": {
            "text/plain": [
              "<Figure size 1440x720 with 1 Axes>"
            ],
            "image/png": "[encoded data removed]"
          },
          "metadata": {
            "needs_background": "light"
          }
        }
      ]
    },
    {
      "cell_type": "code",
      "source": [
        "mx_date=df.select(F.max(\"ObservationDate\")).collect()[0][0]\n",
        "Data_world = df.filter(F.col(\"ObservationDate\")==mx_date).groupBy(\"ObservationDate\").agg({'Confirmed':'sum', 'Deaths':'sum', 'Recovered':'sum', 'Active_case':'sum'})\n",
        "Data_world = Data_world.toPandas()"
      ],
      "metadata": {
        "id": "yVLwQnKINPV3"
      },
      "execution_count": 26,
      "outputs": []
    },
    {
      "cell_type": "code",
      "source": [
        "Data_world.head()"
      ],
      "metadata": {
        "colab": {
          "base_uri": "https://localhost:8080/",
          "height": 81
        },
        "id": "WN-_reyROav0",
        "outputId": "a41f4e31-af08-439c-b6c7-b9c3d9fae0af"
      },
      "execution_count": 28,
      "outputs": [
        {
          "output_type": "execute_result",
          "data": {
            "text/plain": [
              "  ObservationDate  sum(Recovered)  sum(Deaths)  sum(Confirmed)  \\\n",
              "0      07/05/2020       6179006.0     534267.0      11449707.0   \n",
              "\n",
              "   sum(Active_case)  \n",
              "0         4736434.0  "
            ],
            "text/html": [
              "\n",
              "  <div id=\"df-e6b1fecd-ca19-4904-84b6-726fd63b3a26\">\n",
              "    <div class=\"colab-df-container\">\n",
              "      <div>\n",
              "<style scoped>\n",
              "    .dataframe tbody tr th:only-of-type {\n",
              "        vertical-align: middle;\n",
              "    }\n",
              "\n",
              "    .dataframe tbody tr th {\n",
              "        vertical-align: top;\n",
              "    }\n",
              "\n",
              "    .dataframe thead th {\n",
              "        text-align: right;\n",
              "    }\n",
              "</style>\n",
              "<table border=\"1\" class=\"dataframe\">\n",
              "  <thead>\n",
              "    <tr style=\"text-align: right;\">\n",
              "      <th></th>\n",
              "      <th>ObservationDate</th>\n",
              "      <th>sum(Recovered)</th>\n",
              "      <th>sum(Deaths)</th>\n",
              "      <th>sum(Confirmed)</th>\n",
              "      <th>sum(Active_case)</th>\n",
              "    </tr>\n",
              "  </thead>\n",
              "  <tbody>\n",
              "    <tr>\n",
              "      <th>0</th>\n",
              "      <td>07/05/2020</td>\n",
              "      <td>6179006.0</td>\n",
              "      <td>534267.0</td>\n",
              "      <td>11449707.0</td>\n",
              "      <td>4736434.0</td>\n",
              "    </tr>\n",
              "  </tbody>\n",
              "</table>\n",
              "</div>\n",
              "      <button class=\"colab-df-convert\" onclick=\"convertToInteractive('df-e6b1fecd-ca19-4904-84b6-726fd63b3a26')\"\n",
              "              title=\"Convert this dataframe to an interactive table.\"\n",
              "              style=\"display:none;\">\n",
              "        \n",
              "  <svg xmlns=\"http://www.w3.org/2000/svg\" height=\"24px\"viewBox=\"0 0 24 24\"\n",
              "       width=\"24px\">\n",
              "    <path d=\"M0 0h24v24H0V0z\" fill=\"none\"/>\n",
              "    <path d=\"M18.56 5.44l.94 2.06.94-2.06 2.06-.94-2.06-.94-.94-2.06-.94 2.06-2.06.94zm-11 1L8.5 8.5l.94-2.06 2.06-.94-2.06-.94L8.5 2.5l-.94 2.06-2.06.94zm10 10l.94 2.06.94-2.06 2.06-.94-2.06-.94-.94-2.06-.94 2.06-2.06.94z\"/><path d=\"M17.41 7.96l-1.37-1.37c-.4-.4-.92-.59-1.43-.59-.52 0-1.04.2-1.43.59L10.3 9.45l-7.72 7.72c-.78.78-.78 2.05 0 2.83L4 21.41c.39.39.9.59 1.41.59.51 0 1.02-.2 1.41-.59l7.78-7.78 2.81-2.81c.8-.78.8-2.07 0-2.86zM5.41 20L4 18.59l7.72-7.72 1.47 1.35L5.41 20z\"/>\n",
              "  </svg>\n",
              "      </button>\n",
              "      \n",
              "  <style>\n",
              "    .colab-df-container {\n",
              "      display:flex;\n",
              "      flex-wrap:wrap;\n",
              "      gap: 12px;\n",
              "    }\n",
              "\n",
              "    .colab-df-convert {\n",
              "      background-color: #E8F0FE;\n",
              "      border: none;\n",
              "      border-radius: 50%;\n",
              "      cursor: pointer;\n",
              "      display: none;\n",
              "      fill: #1967D2;\n",
              "      height: 32px;\n",
              "      padding: 0 0 0 0;\n",
              "      width: 32px;\n",
              "    }\n",
              "\n",
              "    .colab-df-convert:hover {\n",
              "      background-color: #E2EBFA;\n",
              "      box-shadow: 0px 1px 2px rgba(60, 64, 67, 0.3), 0px 1px 3px 1px rgba(60, 64, 67, 0.15);\n",
              "      fill: #174EA6;\n",
              "    }\n",
              "\n",
              "    [theme=dark] .colab-df-convert {\n",
              "      background-color: #3B4455;\n",
              "      fill: #D2E3FC;\n",
              "    }\n",
              "\n",
              "    [theme=dark] .colab-df-convert:hover {\n",
              "      background-color: #434B5C;\n",
              "      box-shadow: 0px 1px 3px 1px rgba(0, 0, 0, 0.15);\n",
              "      filter: drop-shadow(0px 1px 2px rgba(0, 0, 0, 0.3));\n",
              "      fill: #FFFFFF;\n",
              "    }\n",
              "  </style>\n",
              "\n",
              "      <script>\n",
              "        const buttonEl =\n",
              "          document.querySelector('#df-e6b1fecd-ca19-4904-84b6-726fd63b3a26 button.colab-df-convert');\n",
              "        buttonEl.style.display =\n",
              "          google.colab.kernel.accessAllowed ? 'block' : 'none';\n",
              "\n",
              "        async function convertToInteractive(key) {\n",
              "          const element = document.querySelector('#df-e6b1fecd-ca19-4904-84b6-726fd63b3a26');\n",
              "          const dataTable =\n",
              "            await google.colab.kernel.invokeFunction('convertToInteractive',\n",
              "                                                     [key], {});\n",
              "          if (!dataTable) return;\n",
              "\n",
              "          const docLinkHtml = 'Like what you see? Visit the ' +\n",
              "            '<a target=\"_blank\" href=https://colab.research.google.com/notebooks/data_table.ipynb>data table notebook</a>'\n",
              "            + ' to learn more about interactive tables.';\n",
              "          element.innerHTML = '';\n",
              "          dataTable['output_type'] = 'display_data';\n",
              "          await google.colab.output.renderOutput(dataTable, element);\n",
              "          const docLink = document.createElement('div');\n",
              "          docLink.innerHTML = docLinkHtml;\n",
              "          element.appendChild(docLink);\n",
              "        }\n",
              "      </script>\n",
              "    </div>\n",
              "  </div>\n",
              "  "
            ]
          },
          "metadata": {},
          "execution_count": 28
        }
      ]
    },
    {
      "cell_type": "code",
      "source": [
        "import plotly.express as px\n",
        "labels = [\"Total Active cases\",\"Total Recovered cases\",\"Total Deaths cases\"]\n",
        "values = Data_world.loc[0, [\"sum(Active_case)\",\"sum(Recovered)\",\"sum(Deaths)\"]]\n",
        "fig = px.pie(Data_world, values=values, names=labels, color_discrete_sequence=['blue','green','red'])\n",
        "fig.update_layout(\n",
        "    title='Total cases : '+str(Data_world[\"sum(Confirmed)\"][0]),\n",
        ")\n",
        "fig.show()"
      ],
      "metadata": {
        "colab": {
          "base_uri": "https://localhost:8080/",
          "height": 542
        },
        "id": "PkU3O92UOkA4",
        "outputId": "3b463b04-8577-4314-b507-ba3673f94f9b"
      },
      "execution_count": 31,
      "outputs": [
        {
          "output_type": "display_data",
          "data": {
            "text/html": [
              "<html>\n",
              "<head><meta charset=\"utf-8\" /></head>\n",
              "<body>\n",
              "    <div>            <script src=\"https://cdnjs.cloudflare.com/ajax/libs/mathjax/2.7.5/MathJax.js?config=TeX-AMS-MML_SVG\"></script><script type=\"text/javascript\">if (window.MathJax) {MathJax.Hub.Config({SVG: {font: \"STIX-Web\"}});}</script>                <script type=\"text/javascript\">window.PlotlyConfig = {MathJaxConfig: 'local'};</script>\n",
              "        <script src=\"https://cdn.plot.ly/plotly-2.8.3.min.js\"></script>                <div id=\"57f795fa-05ad-4791-b729-d754ac6b3877\" class=\"plotly-graph-div\" style=\"height:525px; width:100%;\"></div>            <script type=\"text/javascript\">                                    window.PLOTLYENV=window.PLOTLYENV || {};                                    if (document.getElementById(\"57f795fa-05ad-4791-b729-d754ac6b3877\")) {                    Plotly.newPlot(                        \"57f795fa-05ad-4791-b729-d754ac6b3877\",                        [{\"domain\":{\"x\":[0.0,1.0],\"y\":[0.0,1.0]},\"hovertemplate\":\"label=%{label}<br>value=%{value}<extra></extra>\",\"labels\":[\"Total Active cases\",\"Total Recovered cases\",\"Total Deaths cases\"],\"legendgroup\":\"\",\"name\":\"\",\"showlegend\":true,\"values\":[4736434.0,6179006.0,534267.0],\"type\":\"pie\"}],                        {\"template\":{\"data\":{\"bar\":[{\"error_x\":{\"color\":\"#2a3f5f\"},\"error_y\":{\"color\":\"#2a3f5f\"},\"marker\":{\"line\":{\"color\":\"#E5ECF6\",\"width\":0.5},\"pattern\":{\"fillmode\":\"overlay\",\"size\":10,\"solidity\":0.2}},\"type\":\"bar\"}],\"barpolar\":[{\"marker\":{\"line\":{\"color\":\"#E5ECF6\",\"width\":0.5},\"pattern\":{\"fillmode\":\"overlay\",\"size\":10,\"solidity\":0.2}},\"type\":\"barpolar\"}],\"carpet\":[{\"aaxis\":{\"endlinecolor\":\"#2a3f5f\",\"gridcolor\":\"white\",\"linecolor\":\"white\",\"minorgridcolor\":\"white\",\"startlinecolor\":\"#2a3f5f\"},\"baxis\":{\"endlinecolor\":\"#2a3f5f\",\"gridcolor\":\"white\",\"linecolor\":\"white\",\"minorgridcolor\":\"white\",\"startlinecolor\":\"#2a3f5f\"},\"type\":\"carpet\"}],\"choropleth\":[{\"colorbar\":{\"outlinewidth\":0,\"ticks\":\"\"},\"type\":\"choropleth\"}],\"contour\":[{\"colorbar\":{\"outlinewidth\":0,\"ticks\":\"\"},\"colorscale\":[[0.0,\"#0d0887\"],[0.1111111111111111,\"#46039f\"],[0.2222222222222222,\"#7201a8\"],[0.3333333333333333,\"#9c179e\"],[0.4444444444444444,\"#bd3786\"],[0.5555555555555556,\"#d8576b\"],[0.6666666666666666,\"#ed7953\"],[0.7777777777777778,\"#fb9f3a\"],[0.8888888888888888,\"#fdca26\"],[1.0,\"#f0f921\"]],\"type\":\"contour\"}],\"contourcarpet\":[{\"colorbar\":{\"outlinewidth\":0,\"ticks\":\"\"},\"type\":\"contourcarpet\"}],\"heatmap\":[{\"colorbar\":{\"outlinewidth\":0,\"ticks\":\"\"},\"colorscale\":[[0.0,\"#0d0887\"],[0.1111111111111111,\"#46039f\"],[0.2222222222222222,\"#7201a8\"],[0.3333333333333333,\"#9c179e\"],[0.4444444444444444,\"#bd3786\"],[0.5555555555555556,\"#d8576b\"],[0.6666666666666666,\"#ed7953\"],[0.7777777777777778,\"#fb9f3a\"],[0.8888888888888888,\"#fdca26\"],[1.0,\"#f0f921\"]],\"type\":\"heatmap\"}],\"heatmapgl\":[{\"colorbar\":{\"outlinewidth\":0,\"ticks\":\"\"},\"colorscale\":[[0.0,\"#0d0887\"],[0.1111111111111111,\"#46039f\"],[0.2222222222222222,\"#7201a8\"],[0.3333333333333333,\"#9c179e\"],[0.4444444444444444,\"#bd3786\"],[0.5555555555555556,\"#d8576b\"],[0.6666666666666666,\"#ed7953\"],[0.7777777777777778,\"#fb9f3a\"],[0.8888888888888888,\"#fdca26\"],[1.0,\"#f0f921\"]],\"type\":\"heatmapgl\"}],\"histogram\":[{\"marker\":{\"pattern\":{\"fillmode\":\"overlay\",\"size\":10,\"solidity\":0.2}},\"type\":\"histogram\"}],\"histogram2d\":[{\"colorbar\":{\"outlinewidth\":0,\"ticks\":\"\"},\"colorscale\":[[0.0,\"#0d0887\"],[0.1111111111111111,\"#46039f\"],[0.2222222222222222,\"#7201a8\"],[0.3333333333333333,\"#9c179e\"],[0.4444444444444444,\"#bd3786\"],[0.5555555555555556,\"#d8576b\"],[0.6666666666666666,\"#ed7953\"],[0.7777777777777778,\"#fb9f3a\"],[0.8888888888888888,\"#fdca26\"],[1.0,\"#f0f921\"]],\"type\":\"histogram2d\"}],\"histogram2dcontour\":[{\"colorbar\":{\"outlinewidth\":0,\"ticks\":\"\"},\"colorscale\":[[0.0,\"#0d0887\"],[0.1111111111111111,\"#46039f\"],[0.2222222222222222,\"#7201a8\"],[0.3333333333333333,\"#9c179e\"],[0.4444444444444444,\"#bd3786\"],[0.5555555555555556,\"#d8576b\"],[0.6666666666666666,\"#ed7953\"],[0.7777777777777778,\"#fb9f3a\"],[0.8888888888888888,\"#fdca26\"],[1.0,\"#f0f921\"]],\"type\":\"histogram2dcontour\"}],\"mesh3d\":[{\"colorbar\":{\"outlinewidth\":0,\"ticks\":\"\"},\"type\":\"mesh3d\"}],\"parcoords\":[{\"line\":{\"colorbar\":{\"outlinewidth\":0,\"ticks\":\"\"}},\"type\":\"parcoords\"}],\"pie\":[{\"automargin\":true,\"type\":\"pie\"}],\"scatter\":[{\"marker\":{\"colorbar\":{\"outlinewidth\":0,\"ticks\":\"\"}},\"type\":\"scatter\"}],\"scatter3d\":[{\"line\":{\"colorbar\":{\"outlinewidth\":0,\"ticks\":\"\"}},\"marker\":{\"colorbar\":{\"outlinewidth\":0,\"ticks\":\"\"}},\"type\":\"scatter3d\"}],\"scattercarpet\":[{\"marker\":{\"colorbar\":{\"outlinewidth\":0,\"ticks\":\"\"}},\"type\":\"scattercarpet\"}],\"scattergeo\":[{\"marker\":{\"colorbar\":{\"outlinewidth\":0,\"ticks\":\"\"}},\"type\":\"scattergeo\"}],\"scattergl\":[{\"marker\":{\"colorbar\":{\"outlinewidth\":0,\"ticks\":\"\"}},\"type\":\"scattergl\"}],\"scattermapbox\":[{\"marker\":{\"colorbar\":{\"outlinewidth\":0,\"ticks\":\"\"}},\"type\":\"scattermapbox\"}],\"scatterpolar\":[{\"marker\":{\"colorbar\":{\"outlinewidth\":0,\"ticks\":\"\"}},\"type\":\"scatterpolar\"}],\"scatterpolargl\":[{\"marker\":{\"colorbar\":{\"outlinewidth\":0,\"ticks\":\"\"}},\"type\":\"scatterpolargl\"}],\"scatterternary\":[{\"marker\":{\"colorbar\":{\"outlinewidth\":0,\"ticks\":\"\"}},\"type\":\"scatterternary\"}],\"surface\":[{\"colorbar\":{\"outlinewidth\":0,\"ticks\":\"\"},\"colorscale\":[[0.0,\"#0d0887\"],[0.1111111111111111,\"#46039f\"],[0.2222222222222222,\"#7201a8\"],[0.3333333333333333,\"#9c179e\"],[0.4444444444444444,\"#bd3786\"],[0.5555555555555556,\"#d8576b\"],[0.6666666666666666,\"#ed7953\"],[0.7777777777777778,\"#fb9f3a\"],[0.8888888888888888,\"#fdca26\"],[1.0,\"#f0f921\"]],\"type\":\"surface\"}],\"table\":[{\"cells\":{\"fill\":{\"color\":\"#EBF0F8\"},\"line\":{\"color\":\"white\"}},\"header\":{\"fill\":{\"color\":\"#C8D4E3\"},\"line\":{\"color\":\"white\"}},\"type\":\"table\"}]},\"layout\":{\"annotationdefaults\":{\"arrowcolor\":\"#2a3f5f\",\"arrowhead\":0,\"arrowwidth\":1},\"autotypenumbers\":\"strict\",\"coloraxis\":{\"colorbar\":{\"outlinewidth\":0,\"ticks\":\"\"}},\"colorscale\":{\"diverging\":[[0,\"#8e0152\"],[0.1,\"#c51b7d\"],[0.2,\"#de77ae\"],[0.3,\"#f1b6da\"],[0.4,\"#fde0ef\"],[0.5,\"#f7f7f7\"],[0.6,\"#e6f5d0\"],[0.7,\"#b8e186\"],[0.8,\"#7fbc41\"],[0.9,\"#4d9221\"],[1,\"#276419\"]],\"sequential\":[[0.0,\"#0d0887\"],[0.1111111111111111,\"#46039f\"],[0.2222222222222222,\"#7201a8\"],[0.3333333333333333,\"#9c179e\"],[0.4444444444444444,\"#bd3786\"],[0.5555555555555556,\"#d8576b\"],[0.6666666666666666,\"#ed7953\"],[0.7777777777777778,\"#fb9f3a\"],[0.8888888888888888,\"#fdca26\"],[1.0,\"#f0f921\"]],\"sequentialminus\":[[0.0,\"#0d0887\"],[0.1111111111111111,\"#46039f\"],[0.2222222222222222,\"#7201a8\"],[0.3333333333333333,\"#9c179e\"],[0.4444444444444444,\"#bd3786\"],[0.5555555555555556,\"#d8576b\"],[0.6666666666666666,\"#ed7953\"],[0.7777777777777778,\"#fb9f3a\"],[0.8888888888888888,\"#fdca26\"],[1.0,\"#f0f921\"]]},\"colorway\":[\"#636efa\",\"#EF553B\",\"#00cc96\",\"#ab63fa\",\"#FFA15A\",\"#19d3f3\",\"#FF6692\",\"#B6E880\",\"#FF97FF\",\"#FECB52\"],\"font\":{\"color\":\"#2a3f5f\"},\"geo\":{\"bgcolor\":\"white\",\"lakecolor\":\"white\",\"landcolor\":\"#E5ECF6\",\"showlakes\":true,\"showland\":true,\"subunitcolor\":\"white\"},\"hoverlabel\":{\"align\":\"left\"},\"hovermode\":\"closest\",\"mapbox\":{\"style\":\"light\"},\"paper_bgcolor\":\"white\",\"plot_bgcolor\":\"#E5ECF6\",\"polar\":{\"angularaxis\":{\"gridcolor\":\"white\",\"linecolor\":\"white\",\"ticks\":\"\"},\"bgcolor\":\"#E5ECF6\",\"radialaxis\":{\"gridcolor\":\"white\",\"linecolor\":\"white\",\"ticks\":\"\"}},\"scene\":{\"xaxis\":{\"backgroundcolor\":\"#E5ECF6\",\"gridcolor\":\"white\",\"gridwidth\":2,\"linecolor\":\"white\",\"showbackground\":true,\"ticks\":\"\",\"zerolinecolor\":\"white\"},\"yaxis\":{\"backgroundcolor\":\"#E5ECF6\",\"gridcolor\":\"white\",\"gridwidth\":2,\"linecolor\":\"white\",\"showbackground\":true,\"ticks\":\"\",\"zerolinecolor\":\"white\"},\"zaxis\":{\"backgroundcolor\":\"#E5ECF6\",\"gridcolor\":\"white\",\"gridwidth\":2,\"linecolor\":\"white\",\"showbackground\":true,\"ticks\":\"\",\"zerolinecolor\":\"white\"}},\"shapedefaults\":{\"line\":{\"color\":\"#2a3f5f\"}},\"ternary\":{\"aaxis\":{\"gridcolor\":\"white\",\"linecolor\":\"white\",\"ticks\":\"\"},\"baxis\":{\"gridcolor\":\"white\",\"linecolor\":\"white\",\"ticks\":\"\"},\"bgcolor\":\"#E5ECF6\",\"caxis\":{\"gridcolor\":\"white\",\"linecolor\":\"white\",\"ticks\":\"\"}},\"title\":{\"x\":0.05},\"xaxis\":{\"automargin\":true,\"gridcolor\":\"white\",\"linecolor\":\"white\",\"ticks\":\"\",\"title\":{\"standoff\":15},\"zerolinecolor\":\"white\",\"zerolinewidth\":2},\"yaxis\":{\"automargin\":true,\"gridcolor\":\"white\",\"linecolor\":\"white\",\"ticks\":\"\",\"title\":{\"standoff\":15},\"zerolinecolor\":\"white\",\"zerolinewidth\":2}}},\"legend\":{\"tracegroupgap\":0},\"margin\":{\"t\":60},\"piecolorway\":[\"blue\",\"green\",\"red\"],\"title\":{\"text\":\"Total cases : 11449707.0\"}},                        {\"responsive\": true}                    ).then(function(){\n",
              "                            \n",
              "var gd = document.getElementById('57f795fa-05ad-4791-b729-d754ac6b3877');\n",
              "var x = new MutationObserver(function (mutations, observer) {{\n",
              "        var display = window.getComputedStyle(gd).display;\n",
              "        if (!display || display === 'none') {{\n",
              "            console.log([gd, 'removed!']);\n",
              "            Plotly.purge(gd);\n",
              "            observer.disconnect();\n",
              "        }}\n",
              "}});\n",
              "\n",
              "// Listen for the removal of the full notebook cells\n",
              "var notebookContainer = gd.closest('#notebook-container');\n",
              "if (notebookContainer) {{\n",
              "    x.observe(notebookContainer, {childList: true});\n",
              "}}\n",
              "\n",
              "// Listen for the clearing of the current output cell\n",
              "var outputEl = gd.closest('.output');\n",
              "if (outputEl) {{\n",
              "    x.observe(outputEl, {childList: true});\n",
              "}}\n",
              "\n",
              "                        })                };                            </script>        </div>\n",
              "</body>\n",
              "</html>"
            ]
          },
          "metadata": {}
        }
      ]
    },
    {
      "cell_type": "code",
      "source": [
        ""
      ],
      "metadata": {
        "id": "B0yf8H5ePEIM"
      },
      "execution_count": null,
      "outputs": []
    }
  ]
}