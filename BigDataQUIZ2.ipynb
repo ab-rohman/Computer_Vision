{
  "nbformat": 4,
  "nbformat_minor": 0,
  "metadata": {
    "colab": {
      "name": "BigDataQUIZ2.ipynb",
      "provenance": [],
      "authorship_tag": "ABX9TyNWWcegQN+f4avIc8R29G4u",
      "include_colab_link": true
    },
    "kernelspec": {
      "name": "python3",
      "display_name": "Python 3"
    },
    "language_info": {
      "name": "python"
    }
  },
  "cells": [
    {
      "cell_type": "markdown",
      "metadata": {
        "id": "view-in-github",
        "colab_type": "text"
      },
      "source": [
        "<a href=\"https://colab.research.google.com/github/ab-rohman/Computer_Vision/blob/main/BigDataQUIZ2.ipynb\" target=\"_parent\"><img src=\"https://colab.research.google.com/assets/colab-badge.svg\" alt=\"Open In Colab\"/></a>"
      ]
    },
    {
      "cell_type": "code",
      "execution_count": null,
      "metadata": {
        "id": "JNpWrQmn9KGa"
      },
      "outputs": [],
      "source": [
        "import pandas as pd\n",
        "import numpy as np\n",
        "import matplotlib.pyplot as plt\n",
        "import seaborn as sns"
      ]
    },
    {
      "cell_type": "code",
      "source": [
        "from google.colab import drive\n",
        "\n",
        "drive.mount('/content/drive')"
      ],
      "metadata": {
        "colab": {
          "base_uri": "https://localhost:8080/"
        },
        "id": "4GSz4sdMBmQ9",
        "outputId": "5b175a6e-8c6c-4953-a473-570e7a6cbdc0"
      },
      "execution_count": null,
      "outputs": [
        {
          "output_type": "stream",
          "name": "stdout",
          "text": [
            "Mounted at /content/drive\n"
          ]
        }
      ]
    },
    {
      "cell_type": "code",
      "source": [
        "!pip install pyspark"
      ],
      "metadata": {
        "colab": {
          "base_uri": "https://localhost:8080/"
        },
        "id": "PwI90O1N-1cZ",
        "outputId": "af09cb3f-9376-4552-863c-cd7da6e0d08c"
      },
      "execution_count": null,
      "outputs": [
        {
          "output_type": "stream",
          "name": "stdout",
          "text": [
            "Looking in indexes: https://pypi.org/simple, https://us-python.pkg.dev/colab-wheels/public/simple/\n",
            "Collecting pyspark\n",
            "  Downloading pyspark-3.2.1.tar.gz (281.4 MB)\n",
            "\u001b[K     |████████████████████████████████| 281.4 MB 35 kB/s \n",
            "\u001b[?25hCollecting py4j==0.10.9.3\n",
            "  Downloading py4j-0.10.9.3-py2.py3-none-any.whl (198 kB)\n",
            "\u001b[K     |████████████████████████████████| 198 kB 45.0 MB/s \n",
            "\u001b[?25hBuilding wheels for collected packages: pyspark\n",
            "  Building wheel for pyspark (setup.py) ... \u001b[?25l\u001b[?25hdone\n",
            "  Created wheel for pyspark: filename=pyspark-3.2.1-py2.py3-none-any.whl size=281853642 sha256=bc00cda85adfcd4e646b6ad6d0e4d8667af32f1d2d27fea7baafe4793f3bf136\n",
            "  Stored in directory: /root/.cache/pip/wheels/9f/f5/07/7cd8017084dce4e93e84e92efd1e1d5334db05f2e83bcef74f\n",
            "Successfully built pyspark\n",
            "Installing collected packages: py4j, pyspark\n",
            "Successfully installed py4j-0.10.9.3 pyspark-3.2.1\n"
          ]
        }
      ]
    },
    {
      "cell_type": "code",
      "source": [
        "import pyspark\n",
        "from pyspark.rdd import RDD\n",
        "from pyspark.sql import Row\n",
        "from pyspark.sql import DataFrame\n",
        "from pyspark.sql import SparkSession\n",
        "from pyspark.sql import SQLContext\n",
        "from pyspark.sql import functions\n",
        "from pyspark.sql.functions import lit, desc, col, size, array_contains, isnan, udf, hour, array_min, array_max, countDistinct\n",
        "from pyspark.sql.types import *\n",
        "\n",
        "from pyspark.ml  import Pipeline     \n",
        "from pyspark.sql.functions import mean,col,split, col, regexp_extract, when, lit"
      ],
      "metadata": {
        "id": "Qj9sTBCn9ch9"
      },
      "execution_count": null,
      "outputs": []
    },
    {
      "cell_type": "code",
      "source": [
        "!apt-get install openjdk-8-jdk-headless -qq > /dev/null"
      ],
      "metadata": {
        "id": "k-ye-xvhAxiQ"
      },
      "execution_count": null,
      "outputs": []
    },
    {
      "cell_type": "code",
      "source": [
        "!wget -q https://dlcdn.apache.org/spark/spark-3.2.1/spark-3.2.1-bin-hadoop3.2.tgz\n",
        "!tar xf spark-3.2.1-bin-hadoop3.2.tgz"
      ],
      "metadata": {
        "id": "Tdugzyxe_YUp"
      },
      "execution_count": null,
      "outputs": []
    },
    {
      "cell_type": "code",
      "source": [
        "import os\n",
        "os.environ[\"JAVA_HOME\"] = \"/usr/lib/jvm/java-8-openjdk-amd64\"\n",
        "os.environ[\"SPARK_HOME\"] = \"/content/spark-3.2.1-bin-hadoop3.2\""
      ],
      "metadata": {
        "id": "6dfcSffPA9PK"
      },
      "execution_count": null,
      "outputs": []
    },
    {
      "cell_type": "code",
      "source": [
        "!pip install -q findspark"
      ],
      "metadata": {
        "id": "jmEJmIMXBCLF"
      },
      "execution_count": null,
      "outputs": []
    },
    {
      "cell_type": "code",
      "source": [
        "import findspark\n",
        "findspark.init()"
      ],
      "metadata": {
        "id": "girRhJSMBIba"
      },
      "execution_count": null,
      "outputs": []
    },
    {
      "cell_type": "code",
      "source": [
        "from pyspark.sql import SparkSession\n",
        "\n",
        "spark = SparkSession.builder\\\n",
        "  .master(\"local\")\\\n",
        "  .appName(\"Colab\")\\\n",
        "  .config('spark.ui.port', '4050')\\\n",
        "  .getOrCreate()"
      ],
      "metadata": {
        "id": "b1xd3UNkBMIU"
      },
      "execution_count": null,
      "outputs": []
    },
    {
      "cell_type": "code",
      "source": [
        "df = spark.read.csv(\"/content/drive/MyDrive/BigData/CAvideos.csv\")\n",
        "df.printSchema()"
      ],
      "metadata": {
        "colab": {
          "base_uri": "https://localhost:8080/"
        },
        "id": "xYc1UKQDFkKy",
        "outputId": "54d3c0aa-8eea-4fc6-f5d3-6e6101608284"
      },
      "execution_count": null,
      "outputs": [
        {
          "output_type": "stream",
          "name": "stdout",
          "text": [
            "root\n",
            " |-- _c0: string (nullable = true)\n",
            " |-- _c1: string (nullable = true)\n",
            " |-- _c2: string (nullable = true)\n",
            " |-- _c3: string (nullable = true)\n",
            " |-- _c4: string (nullable = true)\n",
            " |-- _c5: string (nullable = true)\n",
            " |-- _c6: string (nullable = true)\n",
            " |-- _c7: string (nullable = true)\n",
            " |-- _c8: string (nullable = true)\n",
            " |-- _c9: string (nullable = true)\n",
            " |-- _c10: string (nullable = true)\n",
            " |-- _c11: string (nullable = true)\n",
            " |-- _c12: string (nullable = true)\n",
            " |-- _c13: string (nullable = true)\n",
            " |-- _c14: string (nullable = true)\n",
            " |-- _c15: string (nullable = true)\n",
            "\n"
          ]
        }
      ]
    },
    {
      "cell_type": "code",
      "source": [
        "df.show(4,False)"
      ],
      "metadata": {
        "colab": {
          "base_uri": "https://localhost:8080/"
        },
        "id": "0YghcHeVGMQ_",
        "outputId": "a99a22b5-38a6-41aa-e3e8-b958496851f2"
      },
      "execution_count": null,
      "outputs": [
        {
          "output_type": "stream",
          "name": "stdout",
          "text": [
            "+-----------+-------------+-----------------------------------------------------+-------------+-----------+------------------------+----------------------------------------------------------------------------------------------------------------------------------------------------------------------------------------------------------------------------------------------------------------------------------------------------------------------------+--------+------+--------+-------------+----------------------------------------------+-----------------+----------------+----------------------+-------------------------------------------------------------------------------------------------------------------------------------------------------------------------------------------------------------------------------------------------------------------------------------------------------------------------------------------------------------------------------------------------------------------------------------------------------------------------------------------------------------------------------------------------------------------------------------------------------------------------------------------------------------------------------------------------------------------------------------------------------------------------------------------------------------------------------------------------------------------------------------------------------------------------------------------------------------------------------------------------------------------------------------------------------------------------------------------------------------------------------------------------------------------------------------------------------------------------+\n",
            "|_c0        |_c1          |_c2                                                  |_c3          |_c4        |_c5                     |_c6                                                                                                                                                                                                                                                                                                                         |_c7     |_c8   |_c9     |_c10         |_c11                                          |_c12             |_c13            |_c14                  |_c15                                                                                                                                                                                                                                                                                                                                                                                                                                                                                                                                                                                                                                                                                                                                                                                                                                                                                                                                                                                                                                                                                                                                                                                                                     |\n",
            "+-----------+-------------+-----------------------------------------------------+-------------+-----------+------------------------+----------------------------------------------------------------------------------------------------------------------------------------------------------------------------------------------------------------------------------------------------------------------------------------------------------------------------+--------+------+--------+-------------+----------------------------------------------+-----------------+----------------+----------------------+-------------------------------------------------------------------------------------------------------------------------------------------------------------------------------------------------------------------------------------------------------------------------------------------------------------------------------------------------------------------------------------------------------------------------------------------------------------------------------------------------------------------------------------------------------------------------------------------------------------------------------------------------------------------------------------------------------------------------------------------------------------------------------------------------------------------------------------------------------------------------------------------------------------------------------------------------------------------------------------------------------------------------------------------------------------------------------------------------------------------------------------------------------------------------------------------------------------------------+\n",
            "|video_id   |trending_date|title                                                |channel_title|category_id|publish_time            |tags                                                                                                                                                                                                                                                                                                                        |views   |likes |dislikes|comment_count|thumbnail_link                                |comments_disabled|ratings_disabled|video_error_or_removed|description                                                                                                                                                                                                                                                                                                                                                                                                                                                                                                                                                                                                                                                                                                                                                                                                                                                                                                                                                                                                                                                                                                                                                                                                              |\n",
            "|n1WpP7iowLc|17.14.11     |Eminem - Walk On Water (Audio) ft. Beyoncé           |EminemVEVO   |10         |2017-11-10T17:00:03.000Z|\"Eminem\"|\"Walk\"|\"On\"|\"Water\"|\"Aftermath/Shady/Interscope\"|\"Rap\"                                                                                                                                                                                                                                                             |17158579|787425|43420   |125882       |https://i.ytimg.com/vi/n1WpP7iowLc/default.jpg|False            |False           |False                 |Eminem's new track Walk on Water ft. Beyoncé is available everywhere: http://shady.sr/WOWEminem \\nPlaylist Best of Eminem: https://goo.gl/AquNpo\\nSubscribe for more: https://goo.gl/DxCrDV\\n\\nFor more visit: \\nhttp://eminem.com\\nhttp://facebook.com/eminem\\nhttp://twitter.com/eminem\\nhttp://instagram.com/eminem\\nhttp://eminem.tumblr.com\\nhttp://shadyrecords.com\\nhttp://facebook.com/shadyrecords\\nhttp://twitter.com/shadyrecords\\nhttp://instagram.com/shadyrecords\\nhttp://trustshady.tumblr.com\\n\\nMusic video by Eminem performing Walk On Water. (C) 2017 Aftermath Records\\nhttp://vevo.ly/gA7xKt                                                                                                                                                                                                                                                                                                                                                                                                                                                                                                                                                                                                       |\n",
            "|0dBIkQ4Mz1M|17.14.11     |PLUSH - Bad Unboxing Fan Mail                        |iDubbbzTV    |23         |2017-11-13T17:00:00.000Z|\"plush\"|\"bad unboxing\"|\"unboxing\"|\"fan mail\"|\"idubbbztv\"|\"idubbbztv2\"|\"things\"|\"best\"|\"packages\"|\"plushies\"|\"chontent chop\"                                                                                                                                                                                                 |1014651 |127794|1688    |13030        |https://i.ytimg.com/vi/0dBIkQ4Mz1M/default.jpg|False            |False           |False                 |STill got a lot of packages. Probably will last for another year. On a side note, more 2nd channel vids soon. editing with premiere from now on, gon' be a tedious transition, but i think it's for the best. \\n\\n__\\n\\nSUBSCRIBE ► http://www.youtube.com/subscription_center?add_user=iDubbbztv\\n\\nMain Channel ► https://www.youtube.com/user/iDubbbzTV\\nSecond Channel ► https://www.youtube.com/channel/UC-tsNNJ3yIW98MtPH6PWFAQ\\nGaming Channel ► https://www.youtube.com/channel/UCVhfFXNY0z3-mbrTh1OYRXA\\n\\nWebsite ► http://www.idubbbz.com/\\n\\nInstagram ► https://instagram.com/idubbbz/\\nTwitter ► https://twitter.com/Idubbbz\\nFacebook ► http://www.facebook.com/IDubbbz\\nTwitch ► http://www.twitch.tv/idubbbz\\n_                                                                                                                                                                                                                                                                                                                                                                                                                                                                                         |\n",
            "|5qpjK5DgCt4|17.14.11     |Racist Superman | Rudy Mancuso, King Bach & Lele Pons|Rudy Mancuso |23         |2017-11-12T19:05:24.000Z|\"racist superman\"|\"rudy\"|\"mancuso\"|\"king\"|\"bach\"|\"racist\"|\"superman\"|\"love\"|\"rudy mancuso poo bear black white official music video\"|\"iphone x by pineapple\"|\"lelepons\"|\"hannahstocking\"|\"rudymancuso\"|\"inanna\"|\"anwar\"|\"sarkis\"|\"shots\"|\"shotsstudios\"|\"alesso\"|\"anitta\"|\"brazil\"|\"Getting My Driver's License | Lele Pons\"|3191434 |146035|5339    |8181         |https://i.ytimg.com/vi/5qpjK5DgCt4/default.jpg|False            |False           |False                 |WATCH MY PREVIOUS VIDEO ▶ \\n\\nSUBSCRIBE ► https://www.youtube.com/channel/UC5jkXpfnBhlDjqh0ir5FsIQ?sub_confirmation=1\\n\\nTHANKS FOR WATCHING! LIKE & SUBSCRIBE FOR MORE VIDEOS!\\n-----------------------------------------------------------\\nFIND ME ON: \\nInstagram | http://instagram.com/rudymancuso\\nTwitter | http://twitter.com/rudymancuso\\nFacebook | http://facebook.com/rudymancuso\\n\\nCAST: \\nRudy Mancuso | http://youtube.com/c/rudymancuso\\nLele Pons | http://youtube.com/c/lelepons\\nKing Bach | https://youtube.com/user/BachelorsPadTv\\n\\nVideo Effects: \\nCaleb Natale | https://instagram.com/calebnatale\\n\\nPA:\\nPaulina Gregory\\n\\n\\nShots Studios Channels:\\nAlesso | https://youtube.com/c/alesso\\nAnitta | http://youtube.com/c/anitta\\nAnwar Jibawi | http://youtube.com/c/anwar\\nAwkward Puppets | http://youtube.com/c/awkwardpuppets\\nHannah Stocking | http://youtube.com/c/hannahstocking\\nInanna Sarkis | http://youtube.com/c/inanna\\nLele Pons | http://youtube.com/c/lelepons\\nMaejor | http://youtube.com/c/maejor\\nMike Tyson | http://youtube.com/c/miketyson \\nRudy Mancuso | http://youtube.com/c/rudymancuso\\nShots Studios | http://youtube.com/c/shots\\n\\n#Rudy\\n#RudyMancuso|\n",
            "+-----------+-------------+-----------------------------------------------------+-------------+-----------+------------------------+----------------------------------------------------------------------------------------------------------------------------------------------------------------------------------------------------------------------------------------------------------------------------------------------------------------------------+--------+------+--------+-------------+----------------------------------------------+-----------------+----------------+----------------------+-------------------------------------------------------------------------------------------------------------------------------------------------------------------------------------------------------------------------------------------------------------------------------------------------------------------------------------------------------------------------------------------------------------------------------------------------------------------------------------------------------------------------------------------------------------------------------------------------------------------------------------------------------------------------------------------------------------------------------------------------------------------------------------------------------------------------------------------------------------------------------------------------------------------------------------------------------------------------------------------------------------------------------------------------------------------------------------------------------------------------------------------------------------------------------------------------------------------------+\n",
            "only showing top 4 rows\n",
            "\n"
          ]
        }
      ]
    },
    {
      "cell_type": "code",
      "source": [
        "#define data schema for file we want to read\n",
        "youtubeSchema = StructType([\n",
        "    StructField(\"video_id\", StringType(), True),\n",
        "    StructField(\"trending_date\", StringType(), True),\n",
        "    StructField(\"title\", StringType(), True),\n",
        "    StructField(\"channel_title\", StringType(), True),\n",
        "    StructField(\"category_id\", StringType(), True),\n",
        "    StructField(\"publish_time\", StringType(), True),\n",
        "    StructField(\"tags\", StringType(), True),\n",
        "    StructField(\"views\", IntegerType(), True),\n",
        "    StructField(\"likes\", IntegerType(), True),\n",
        "    StructField(\"dislikes\", IntegerType(), True),\n",
        "    StructField(\"comment_count\", IntegerType(), True),\n",
        "    StructField(\"thumbnail_link\", StringType(), True),\n",
        "    StructField(\"comments_disabled\", BooleanType(), True),\n",
        "    StructField(\"ratings_disabled\", BooleanType(), True),\n",
        "    StructField(\"video_error_or_removed\", BooleanType(), True),\n",
        "    StructField(\"description\", StringType(), True),\n",
        "])    "
      ],
      "metadata": {
        "id": "1YCLk5Z1EXZI"
      },
      "execution_count": null,
      "outputs": []
    },
    {
      "cell_type": "code",
      "source": [
        "df2 = spark.read.option(\"header\",True).csv(\"/content/drive/MyDrive/BigData/CAvideos.csv\",schema=youtubeSchema)"
      ],
      "metadata": {
        "id": "X2_Rr5sGG3jA"
      },
      "execution_count": null,
      "outputs": []
    },
    {
      "cell_type": "code",
      "source": [
        "df2.printSchema()"
      ],
      "metadata": {
        "colab": {
          "base_uri": "https://localhost:8080/"
        },
        "id": "HwLqMvOYHFQt",
        "outputId": "e976536b-7e15-4423-b406-2820c08e7bd2"
      },
      "execution_count": null,
      "outputs": [
        {
          "output_type": "stream",
          "name": "stdout",
          "text": [
            "root\n",
            " |-- video_id: string (nullable = true)\n",
            " |-- trending_date: string (nullable = true)\n",
            " |-- title: string (nullable = true)\n",
            " |-- channel_title: string (nullable = true)\n",
            " |-- category_id: string (nullable = true)\n",
            " |-- publish_time: string (nullable = true)\n",
            " |-- tags: string (nullable = true)\n",
            " |-- views: integer (nullable = true)\n",
            " |-- likes: integer (nullable = true)\n",
            " |-- dislikes: integer (nullable = true)\n",
            " |-- comment_count: integer (nullable = true)\n",
            " |-- thumbnail_link: string (nullable = true)\n",
            " |-- comments_disabled: boolean (nullable = true)\n",
            " |-- ratings_disabled: boolean (nullable = true)\n",
            " |-- video_error_or_removed: boolean (nullable = true)\n",
            " |-- description: string (nullable = true)\n",
            "\n"
          ]
        }
      ]
    },
    {
      "cell_type": "code",
      "source": [
        "df2.show()"
      ],
      "metadata": {
        "colab": {
          "base_uri": "https://localhost:8080/"
        },
        "id": "uOAQ0OY4V9ZH",
        "outputId": "5e7c9dd6-292d-4cef-cbda-85b7920cd444"
      },
      "execution_count": null,
      "outputs": [
        {
          "output_type": "stream",
          "name": "stdout",
          "text": [
            "+-----------+-------------+----------------------+--------------------+-----------+--------------------+------------------------------+--------+-------+--------+-------------+--------------------+-----------------+----------------+----------------------+--------------------+\n",
            "|   video_id|trending_date|                 title|       channel_title|category_id|        publish_time|                          tags|   views|  likes|dislikes|comment_count|      thumbnail_link|comments_disabled|ratings_disabled|video_error_or_removed|         description|\n",
            "+-----------+-------------+----------------------+--------------------+-----------+--------------------+------------------------------+--------+-------+--------+-------------+--------------------+-----------------+----------------+----------------------+--------------------+\n",
            "|n1WpP7iowLc|     17.14.11|  Eminem - Walk On ...|          EminemVEVO|         10|2017-11-10T17:00:...|          \"Eminem\"|\"Walk\"|\"...|17158579| 787425|   43420|       125882|https://i.ytimg.c...|            false|           false|                 false|Eminem's new trac...|\n",
            "|0dBIkQ4Mz1M|     17.14.11|  PLUSH - Bad Unbox...|           iDubbbzTV|         23|2017-11-13T17:00:...|          \"plush\"|\"bad unbo...| 1014651| 127794|    1688|        13030|https://i.ytimg.c...|            false|           false|                 false|STill got a lot o...|\n",
            "|5qpjK5DgCt4|     17.14.11|  Racist Superman |...|        Rudy Mancuso|         23|2017-11-12T19:05:...|          \"racist superman\"...| 3191434| 146035|    5339|         8181|https://i.ytimg.c...|            false|           false|                 false|WATCH MY PREVIOUS...|\n",
            "|d380meD0W0M|     17.14.11|  I Dare You: GOING...|            nigahiga|         24|2017-11-12T18:01:...|          \"ryan\"|\"higa\"|\"hi...| 2095828| 132239|    1989|        17518|https://i.ytimg.c...|            false|           false|                 false|I know it's been ...|\n",
            "|2Vv-BfVoq4g|     17.14.11|  Ed Sheeran - Perf...|          Ed Sheeran|         10|2017-11-09T11:04:...|          \"edsheeran\"|\"ed s...|33523622|1634130|   21082|        85067|https://i.ytimg.c...|            false|           false|                 false|🎧: https://ad.gt...|\n",
            "|0yIWz1XEeyc|     17.14.11|  Jake Paul Says Al...|          DramaAlert|         25|2017-11-13T07:37:...|          \"#DramaAlert\"|\"Dr...| 1309699| 103755|    4613|        12143|https://i.ytimg.c...|            false|           false|                 false|► Follow for News...|\n",
            "|_uM5kFfkhB8|     17.14.11|  Vanoss Superhero ...|        VanossGaming|         23|2017-11-12T23:52:...|          \"Funny Moments\"|\"...| 2987945| 187464|    9850|        26629|https://i.ytimg.c...|            false|           false|                 false|Vanoss Merch Shop...|\n",
            "|2kyS6SvSYSE|     17.14.11|  WE WANT TO TALK A...|        CaseyNeistat|         22|2017-11-13T17:13:...|               SHANtell martin|  748374|  57534|    2967|        15959|https://i.ytimg.c...|            false|           false|                 false|SHANTELL'S CHANNE...|\n",
            "|JzCsM1vtn78|     17.14.11|  THE LOGANG MADE H...|    Logan Paul Vlogs|         24|2017-11-12T20:19:...|          \"logan paul vlog\"...| 4477587| 292837|    4123|        36391|https://i.ytimg.c...|            false|           false|                 false|Join the movement...|\n",
            "|43sm-QwLcx4|     17.14.11|  Finally Sheldon i...|         Sheikh Musa|         22|2017-11-10T14:10:...|          \"God\"|\"Sheldon Co...|  505161|   4135|     976|         1484|https://i.ytimg.c...|            false|           false|                 false|Sheldon is roasti...|\n",
            "|H1KBHFXm2Bg|     17.14.11|  21 Savage - Bank ...|           21 Savage|         10|2017-11-10T19:00:...|          \"21 savage\"|\"bank...| 5068229| 263596|    8585|        28976|https://i.ytimg.c...|            false|           false|                 false|Watch the officia...|\n",
            "|U3xLOo-CNwo|     17.14.11|  12 Weird Ways To ...|         Troom Troom|         26|2017-11-12T15:00:...|          \"sneak food\"|\"how...| 3153224|  28451|    2285|         3312|https://i.ytimg.c...|            false|           false|                 false|Subscribe Here: h...|\n",
            "|FyZMnhUtLfE|     17.14.11|猎场 | Game Of Hunt...|            大劇獨播|          1|2017-11-12T16:00:...|\"電視劇\"|\"大陸電視劇\"|\"猎场...|  158815|    218|      30|          186|https://i.ytimg.c...|            false|           false|                 false|Thanks for watchi...|\n",
            "|7MxiQ4v0EnE|     17.14.11|  Daang ( Full Vide...|       Speed Records|         10|2017-11-11T16:41:...|          \"punjabi songs\"|\"...| 5718766| 127477|    7134|         8063|https://i.ytimg.c...|            false|           false|                 false|Song - Daang\\nSin...|\n",
            "|LUzsOyWp9lw|     17.14.11|  YOUTUBERS REACT T...|                 FBE|         24|2017-11-12T22:00:...|          \"twitter\"|\"top 10...|  960747|  31810|     668|         5335|https://i.ytimg.c...|            false|           false|                 false|CLICK TO SUBSCRIB...|\n",
            "|AS9-ITLhQxo|     17.14.11|  I Hired An MI6 Sp...|        BuzzFeedBlue|         22|2017-11-11T16:00:...|          \"buzzfeed\"|\"buzzf...| 1531218|  53961|    1697|         4277|https://i.ytimg.c...|            false|           false|                 false|In the Outsmarted...|\n",
            "|gifPYwArCVQ|     17.14.11|  Fake Pet Smart Em...|                NELK|         23|2017-11-13T01:30:...|          \"prank\"|\"pranks\"|...|  557883|  44558|     621|         9619|https://i.ytimg.c...|            false|           false|                 false|3 Days left to co...|\n",
            "|8NHA23f7LvU|     17.14.11|  Jason Momoa Wows ...|The Graham Norton...|         24|2017-11-10T19:06:...|          \"Graham Norton\"|\"...| 1496225|  16116|     236|          605|https://i.ytimg.c...|            false|           false|                 false|I think Sarah Mil...|\n",
            "|fy-CuCzaPp8|     17.14.11|  Rooster Teeth Ani...|       Rooster Teeth|          1|2017-11-13T14:00:...|          \"Rooster Teeth\"|\"...|  308568|  19541|      70|          495|https://i.ytimg.c...|            false|           false|                 false|Miles gets stuck ...|\n",
            "|kzwfHumJyYc|     17.14.11|  Sharry Mann: Cute...|     Lokdhun Punjabi|          1|2017-11-12T12:20:...|          \"sharry mann\"|\"sh...| 1096327|  33966|     798|          882|https://i.ytimg.c...|            false|           false|                 false|Presenting Sharry...|\n",
            "+-----------+-------------+----------------------+--------------------+-----------+--------------------+------------------------------+--------+-------+--------+-------------+--------------------+-----------------+----------------+----------------------+--------------------+\n",
            "only showing top 20 rows\n",
            "\n"
          ]
        }
      ]
    },
    {
      "cell_type": "code",
      "source": [
        "df2.select(\"video_id\", \"trending_date\", \"title\").show(5)"
      ],
      "metadata": {
        "colab": {
          "base_uri": "https://localhost:8080/"
        },
        "id": "4ixlOQmoW8ka",
        "outputId": "6b5646dd-a210-4399-d943-c6e7a69308b7"
      },
      "execution_count": null,
      "outputs": [
        {
          "output_type": "stream",
          "name": "stdout",
          "text": [
            "+-----------+-------------+--------------------+\n",
            "|   video_id|trending_date|               title|\n",
            "+-----------+-------------+--------------------+\n",
            "|n1WpP7iowLc|     17.14.11|Eminem - Walk On ...|\n",
            "|0dBIkQ4Mz1M|     17.14.11|PLUSH - Bad Unbox...|\n",
            "|5qpjK5DgCt4|     17.14.11|Racist Superman |...|\n",
            "|d380meD0W0M|     17.14.11|I Dare You: GOING...|\n",
            "|2Vv-BfVoq4g|     17.14.11|Ed Sheeran - Perf...|\n",
            "+-----------+-------------+--------------------+\n",
            "only showing top 5 rows\n",
            "\n"
          ]
        }
      ]
    },
    {
      "cell_type": "code",
      "source": [
        "df2.select('channel_title').distinct().count()"
      ],
      "metadata": {
        "colab": {
          "base_uri": "https://localhost:8080/"
        },
        "id": "9EmTzw_iXCFE",
        "outputId": "4886f6c6-342b-46da-a76b-2316e9354b33"
      },
      "execution_count": null,
      "outputs": [
        {
          "output_type": "execute_result",
          "data": {
            "text/plain": [
              "5154"
            ]
          },
          "metadata": {},
          "execution_count": 21
        }
      ]
    },
    {
      "cell_type": "code",
      "source": [
        "df2.orderBy(['views'], ascending = [False]).show()"
      ],
      "metadata": {
        "colab": {
          "base_uri": "https://localhost:8080/"
        },
        "id": "AQ_AeUJGsLID",
        "outputId": "ff3dd771-05fb-47be-e238-246613d5a78d"
      },
      "execution_count": null,
      "outputs": [
        {
          "output_type": "stream",
          "name": "stdout",
          "text": [
            "+-----------+-------------+-------------------------+--------------------+-----------+--------------------+------------------------+---------+-------+--------+-------------+--------------------+-----------------+----------------+----------------------+-------------------------+\n",
            "|   video_id|trending_date|                    title|       channel_title|category_id|        publish_time|                    tags|    views|  likes|dislikes|comment_count|      thumbnail_link|comments_disabled|ratings_disabled|video_error_or_removed|              description|\n",
            "+-----------+-------------+-------------------------+--------------------+-----------+--------------------+------------------------+---------+-------+--------+-------------+--------------------+-----------------+----------------+----------------------+-------------------------+\n",
            "|FlsCjmMhFmw|     17.13.12|     YouTube Rewind: T...|   YouTube Spotlight|         24|2017-12-06T17:58:...|    \"Rewind\"|\"Rewind ...|137843120|3014479| 1602383|       817582|https://i.ytimg.c...|            false|           false|                 false|     YouTube Rewind 20...|\n",
            "|FlsCjmMhFmw|     17.12.12|     YouTube Rewind: T...|   YouTube Spotlight|         24|2017-12-06T17:58:...|    \"Rewind\"|\"Rewind ...|125431369|2912715| 1545018|       807558|https://i.ytimg.c...|            false|           false|                 false|     YouTube Rewind 20...|\n",
            "|FlsCjmMhFmw|     17.11.12|     YouTube Rewind: T...|   YouTube Spotlight|         24|2017-12-06T17:58:...|    \"Rewind\"|\"Rewind ...|113876217|2811217| 1470387|       787174|https://i.ytimg.c...|            false|           false|                 false|     YouTube Rewind 20...|\n",
            "|FlsCjmMhFmw|     17.10.12|     YouTube Rewind: T...|   YouTube Spotlight|         24|2017-12-06T17:58:...|    \"Rewind\"|\"Rewind ...|100911567|2656678| 1353655|       682890|https://i.ytimg.c...|            false|           false|                 false|     YouTube Rewind 20...|\n",
            "|VYOjWnS4cMY|     18.13.05|     Childish Gambino ...| ChildishGambinoVEVO|         10|2018-05-06T04:00:...|    \"Childish Gambino...| 98938809|3037318|  161813|       319502|https://i.ytimg.c...|            false|           false|                 false|     “This is America”...|\n",
            "|6ZfuNTqbHE8|     17.07.12|     Marvel Studios' A...|Marvel Entertainment|         24|2017-11-29T13:26:...|    \"marvel\"|\"comics\"...| 89930713|2606665|   53011|       347982|https://i.ytimg.c...|            false|           false|                 false|     There was an idea...|\n",
            "|6ZfuNTqbHE8|     17.06.12|     Marvel Studios' A...|Marvel Entertainment|         24|2017-11-29T13:26:...|    \"marvel\"|\"comics\"...| 87450245|2584675|   52176|       341571|https://i.ytimg.c...|            false|           false|                 false|     There was an idea...|\n",
            "|VYOjWnS4cMY|     18.12.05|     Childish Gambino ...| ChildishGambinoVEVO|         10|2018-05-06T04:00:...|    \"Childish Gambino...| 85092067|2735961|  140711|       289682|https://i.ytimg.c...|            false|           false|                 false|     “This is America”...|\n",
            "|6ZfuNTqbHE8|     17.05.12|     Marvel Studios' A...|Marvel Entertainment|         24|2017-11-29T13:26:...|    \"marvel\"|\"comics\"...| 84281319|2555414|   51008|       339708|https://i.ytimg.c...|            false|           false|                 false|     There was an idea...|\n",
            "|7C2z4GqqS5E|     18.23.05|BTS (방탄소년단) 'FAKE...|             ibighit|         10|2018-05-18T09:00:...|\"BIGHIT\"|\"빅히트\"|\"방...| 80738011|5053338|  165854|      1114800|https://i.ytimg.c...|            false|           false|                 false|BTS (방탄소년단) 'FAKE...|\n",
            "|6ZfuNTqbHE8|     17.04.12|     Marvel Studios' A...|Marvel Entertainment|         24|2017-11-29T13:26:...|    \"marvel\"|\"comics\"...| 80360459|2513103|   49170|       335920|https://i.ytimg.c...|            false|           false|                 false|     There was an idea...|\n",
            "|FlsCjmMhFmw|     17.09.12|     YouTube Rewind: T...|   YouTube Spotlight|         24|2017-12-06T17:58:...|    \"Rewind\"|\"Rewind ...| 75969469|2251826| 1127811|       827755|https://i.ytimg.c...|            false|           false|                 false|     YouTube Rewind 20...|\n",
            "|6ZfuNTqbHE8|     17.03.12|     Marvel Studios' A...|Marvel Entertainment|         24|2017-11-29T13:26:...|    \"marvel\"|\"comics\"...| 74789251|2444960|   46172|       330710|https://i.ytimg.c...|            false|           false|                 false|     There was an idea...|\n",
            "|7C2z4GqqS5E|     18.22.05|BTS (방탄소년단) 'FAKE...|             ibighit|         10|2018-05-18T09:00:...|\"BIGHIT\"|\"빅히트\"|\"방...| 73463137|4924056|  156026|      1084435|https://i.ytimg.c...|            false|           false|                 false|BTS (방탄소년단) 'FAKE...|\n",
            "|VYOjWnS4cMY|     18.11.05|     Childish Gambino ...| ChildishGambinoVEVO|         10|2018-05-06T04:00:...|    \"Childish Gambino...| 73432600|2478908|  124291|       263984|https://i.ytimg.c...|            false|           false|                 false|     “This is America”...|\n",
            "|6ZfuNTqbHE8|     17.02.12|     Marvel Studios' A...|Marvel Entertainment|         24|2017-11-29T13:26:...|    \"marvel\"|\"comics\"...| 66637636|2331359|   41154|       316185|https://i.ytimg.c...|            false|           false|                 false|     There was an idea...|\n",
            "|7C2z4GqqS5E|     18.21.05|BTS (방탄소년단) 'FAKE...|             ibighit|         10|2018-05-18T09:00:...|\"BIGHIT\"|\"빅히트\"|\"방...| 65396157|4750254|  141966|      1040912|https://i.ytimg.c...|            false|           false|                 false|BTS (방탄소년단) 'FAKE...|\n",
            "|7C2z4GqqS5E|     18.20.05|BTS (방탄소년단) 'FAKE...|             ibighit|         10|2018-05-18T09:00:...|\"BIGHIT\"|\"빅히트\"|\"방...| 62796390|4470888|  119046|       905912|https://i.ytimg.c...|            false|           false|                 false|BTS (방탄소년단) 'FAKE...|\n",
            "|_I_D_8Z4sJE|     18.06.03|     Nicky Jam x J. Ba...|          NickyJamTV|         10|2018-03-02T05:00:...|    \"Bad Bunny\"|\"Amor...| 61163906| 629164|   23851|        26762|https://i.ytimg.c...|            false|           false|                 false|     Disponible en tu ...|\n",
            "|VYOjWnS4cMY|     18.10.05|     Childish Gambino ...| ChildishGambinoVEVO|         10|2018-05-06T04:00:...|    \"Childish Gambino...| 60776509|2183745|  104379|       232723|https://i.ytimg.c...|            false|           false|                 false|     “This is America”...|\n",
            "+-----------+-------------+-------------------------+--------------------+-----------+--------------------+------------------------+---------+-------+--------+-------------+--------------------+-----------------+----------------+----------------------+-------------------------+\n",
            "only showing top 20 rows\n",
            "\n"
          ]
        }
      ]
    },
    {
      "cell_type": "code",
      "source": [
        "df2_sorted = df2.orderBy(['views'], ascending = [False])\n",
        "df2_sorted.select(\"title\",\"channel_title\", \"views\").show(20, False)"
      ],
      "metadata": {
        "colab": {
          "base_uri": "https://localhost:8080/"
        },
        "id": "AG2dIOjDsePF",
        "outputId": "53ca9074-8905-40fb-ce76-87114b1f35e7"
      },
      "execution_count": null,
      "outputs": [
        {
          "output_type": "stream",
          "name": "stdout",
          "text": [
            "+--------------------------------------------------------------------------+--------------------+---------+\n",
            "|title                                                                     |channel_title       |views    |\n",
            "+--------------------------------------------------------------------------+--------------------+---------+\n",
            "|YouTube Rewind: The Shape of 2017 | #YouTubeRewind                        |YouTube Spotlight   |137843120|\n",
            "|YouTube Rewind: The Shape of 2017 | #YouTubeRewind                        |YouTube Spotlight   |125431369|\n",
            "|YouTube Rewind: The Shape of 2017 | #YouTubeRewind                        |YouTube Spotlight   |113876217|\n",
            "|YouTube Rewind: The Shape of 2017 | #YouTubeRewind                        |YouTube Spotlight   |100911567|\n",
            "|Childish Gambino - This Is America (Official Video)                       |ChildishGambinoVEVO |98938809 |\n",
            "|Marvel Studios' Avengers: Infinity War Official Trailer                   |Marvel Entertainment|89930713 |\n",
            "|Marvel Studios' Avengers: Infinity War Official Trailer                   |Marvel Entertainment|87450245 |\n",
            "|Childish Gambino - This Is America (Official Video)                       |ChildishGambinoVEVO |85092067 |\n",
            "|Marvel Studios' Avengers: Infinity War Official Trailer                   |Marvel Entertainment|84281319 |\n",
            "|BTS (방탄소년단) 'FAKE LOVE' Official MV                                  |ibighit             |80738011 |\n",
            "|Marvel Studios' Avengers: Infinity War Official Trailer                   |Marvel Entertainment|80360459 |\n",
            "|YouTube Rewind: The Shape of 2017 | #YouTubeRewind                        |YouTube Spotlight   |75969469 |\n",
            "|Marvel Studios' Avengers: Infinity War Official Trailer                   |Marvel Entertainment|74789251 |\n",
            "|BTS (방탄소년단) 'FAKE LOVE' Official MV                                  |ibighit             |73463137 |\n",
            "|Childish Gambino - This Is America (Official Video)                       |ChildishGambinoVEVO |73432600 |\n",
            "|Marvel Studios' Avengers: Infinity War Official Trailer                   |Marvel Entertainment|66637636 |\n",
            "|BTS (방탄소년단) 'FAKE LOVE' Official MV                                  |ibighit             |65396157 |\n",
            "|BTS (방탄소년단) 'FAKE LOVE' Official MV                                  |ibighit             |62796390 |\n",
            "|Nicky Jam x J. Balvin - X (EQUIS) | Video Oficial | Prod. Afro Bros & Jeon|NickyJamTV          |61163906 |\n",
            "|Childish Gambino - This Is America (Official Video)                       |ChildishGambinoVEVO |60776509 |\n",
            "+--------------------------------------------------------------------------+--------------------+---------+\n",
            "only showing top 20 rows\n",
            "\n"
          ]
        }
      ]
    },
    {
      "cell_type": "code",
      "source": [
        "df2_filtered = df2.filter(\"views > 50000000 AND title IS NOT NULL\")\n",
        "df2_filtered.select(\"title\",\"channel_title\", \"views\").show(10, False)"
      ],
      "metadata": {
        "colab": {
          "base_uri": "https://localhost:8080/"
        },
        "id": "pjx-fyUDX1xx",
        "outputId": "02e40d2b-d95e-4c2e-88c5-820ec8c66629"
      },
      "execution_count": null,
      "outputs": [
        {
          "output_type": "stream",
          "name": "stdout",
          "text": [
            "+-------------------------------------------------------+--------------------+--------+\n",
            "|title                                                  |channel_title       |views   |\n",
            "+-------------------------------------------------------+--------------------+--------+\n",
            "|Luis Fonsi, Demi Lovato - Échame La Culpa              |LuisFonsiVEVO       |56843038|\n",
            "|Marvel Studios' Avengers: Infinity War Official Trailer|Marvel Entertainment|56367282|\n",
            "|Marvel Studios' Avengers: Infinity War Official Trailer|Marvel Entertainment|66637636|\n",
            "|Marvel Studios' Avengers: Infinity War Official Trailer|Marvel Entertainment|74789251|\n",
            "|Marvel Studios' Avengers: Infinity War Official Trailer|Marvel Entertainment|80360459|\n",
            "|Marvel Studios' Avengers: Infinity War Official Trailer|Marvel Entertainment|84281319|\n",
            "|Marvel Studios' Avengers: Infinity War Official Trailer|Marvel Entertainment|87450245|\n",
            "|Marvel Studios' Avengers: Infinity War Official Trailer|Marvel Entertainment|89930713|\n",
            "|YouTube Rewind: The Shape of 2017 | #YouTubeRewind     |YouTube Spotlight   |52611730|\n",
            "|YouTube Rewind: The Shape of 2017 | #YouTubeRewind     |YouTube Spotlight   |75969469|\n",
            "+-------------------------------------------------------+--------------------+--------+\n",
            "only showing top 10 rows\n",
            "\n"
          ]
        }
      ]
    },
    {
      "cell_type": "code",
      "source": [
        "df2_sorted2 = df2.orderBy(['dislikes'], ascending = [False])\n",
        "df2_sorted2.select(\"channel_title\", \"dislikes\",\"title\").show(20, False)"
      ],
      "metadata": {
        "colab": {
          "base_uri": "https://localhost:8080/"
        },
        "id": "Pxlw5M5MyC69",
        "outputId": "fd7813f2-8798-4fb0-e3e0-e82e925029db"
      },
      "execution_count": null,
      "outputs": [
        {
          "output_type": "stream",
          "name": "stdout",
          "text": [
            "+-----------------+--------+------------------------------------------------------------------------------------------+\n",
            "|channel_title    |dislikes|title                                                                                     |\n",
            "+-----------------+--------+------------------------------------------------------------------------------------------+\n",
            "|YouTube Spotlight|1602383 |YouTube Rewind: The Shape of 2017 | #YouTubeRewind                                        |\n",
            "|YouTube Spotlight|1545018 |YouTube Rewind: The Shape of 2017 | #YouTubeRewind                                        |\n",
            "|YouTube Spotlight|1470387 |YouTube Rewind: The Shape of 2017 | #YouTubeRewind                                        |\n",
            "|YouTube Spotlight|1353655 |YouTube Rewind: The Shape of 2017 | #YouTubeRewind                                        |\n",
            "|YouTube Spotlight|1127811 |YouTube Rewind: The Shape of 2017 | #YouTubeRewind                                        |\n",
            "|YouTube Spotlight|884963  |YouTube Rewind: The Shape of 2017 | #YouTubeRewind                                        |\n",
            "|Jake Paul        |504340  |Jake Paul - It's Everyday Bro (Remix) [feat. Gucci Mane]                                  |\n",
            "|YouTube Spotlight|483943  |YouTube Rewind: The Shape of 2017 | #YouTubeRewind                                        |\n",
            "|Jake Paul        |480359  |Jake Paul - It's Everyday Bro (Remix) [feat. Gucci Mane]                                  |\n",
            "|Logan Paul Vlogs |461660  |Suicide: Be Here Tomorrow.                                                                |\n",
            "|Jake Paul        |439353  |Jake Paul - It's Everyday Bro (Remix) [feat. Gucci Mane]                                  |\n",
            "|Logan Paul Vlogs |435190  |Suicide: Be Here Tomorrow.                                                                |\n",
            "|Logan Paul Vlogs |398361  |Suicide: Be Here Tomorrow.                                                                |\n",
            "|Jake Paul        |350118  |Jake Paul - It's Everyday Bro (Remix) [feat. Gucci Mane]                                  |\n",
            "|Logan Paul Vlogs |334550  |Suicide: Be Here Tomorrow.                                                                |\n",
            "|Jake Paul        |244229  |Jake Paul - It's Everyday Bro (Remix) [feat. Gucci Mane]                                  |\n",
            "|Jake Paul        |200391  |Jake Paul - Saturday Night (Song) feat. Nick Crompton & Chad Tepper (Official Music Video)|\n",
            "|Daily Caller     |190227  |PSA from Chairman of the FCC Ajit Pai                                                     |\n",
            "|Call of Duty     |174645  |Official Call of Duty®: Black Ops 4 — Multiplayer Reveal Trailer                          |\n",
            "|Jake Paul        |167908  |Jake Paul - Saturday Night (Song) feat. Nick Crompton & Chad Tepper (Official Music Video)|\n",
            "+-----------------+--------+------------------------------------------------------------------------------------------+\n",
            "only showing top 20 rows\n",
            "\n"
          ]
        }
      ]
    },
    {
      "cell_type": "code",
      "source": [
        "df2_filtered2 = df2.filter(\"dislikes > 200000 AND title IS NOT NULL\")\n",
        "df2_filtered2.select(\"title\",\"channel_title\", \"dislikes\").show(10, False)"
      ],
      "metadata": {
        "colab": {
          "base_uri": "https://localhost:8080/"
        },
        "id": "1W8dgWEJaVOS",
        "outputId": "2e992d1a-222c-42ee-935b-be42c2cda46f"
      },
      "execution_count": null,
      "outputs": [
        {
          "output_type": "stream",
          "name": "stdout",
          "text": [
            "+------------------------------------------------------------------------------------------+-----------------+--------+\n",
            "|title                                                                                     |channel_title    |dislikes|\n",
            "+------------------------------------------------------------------------------------------+-----------------+--------+\n",
            "|Jake Paul - Saturday Night (Song) feat. Nick Crompton & Chad Tepper (Official Music Video)|Jake Paul        |200391  |\n",
            "|Jake Paul - It's Everyday Bro (Remix) [feat. Gucci Mane]                                  |Jake Paul        |244229  |\n",
            "|Jake Paul - It's Everyday Bro (Remix) [feat. Gucci Mane]                                  |Jake Paul        |350118  |\n",
            "|Jake Paul - It's Everyday Bro (Remix) [feat. Gucci Mane]                                  |Jake Paul        |439353  |\n",
            "|Jake Paul - It's Everyday Bro (Remix) [feat. Gucci Mane]                                  |Jake Paul        |480359  |\n",
            "|Jake Paul - It's Everyday Bro (Remix) [feat. Gucci Mane]                                  |Jake Paul        |504340  |\n",
            "|YouTube Rewind: The Shape of 2017 | #YouTubeRewind                                        |YouTube Spotlight|483943  |\n",
            "|YouTube Rewind: The Shape of 2017 | #YouTubeRewind                                        |YouTube Spotlight|884963  |\n",
            "|YouTube Rewind: The Shape of 2017 | #YouTubeRewind                                        |YouTube Spotlight|1127811 |\n",
            "|YouTube Rewind: The Shape of 2017 | #YouTubeRewind                                        |YouTube Spotlight|1353655 |\n",
            "+------------------------------------------------------------------------------------------+-----------------+--------+\n",
            "only showing top 10 rows\n",
            "\n"
          ]
        }
      ]
    },
    {
      "cell_type": "code",
      "source": [
        "df2_sorted3 = df2.orderBy(['comment_count'], ascending = [False])\n",
        "df2_sorted3.select(\"title\", \"comment_count\",\"tags\").show(20, False)"
      ],
      "metadata": {
        "id": "J49us5tAa3sG",
        "colab": {
          "base_uri": "https://localhost:8080/"
        },
        "outputId": "57765793-f028-424f-8eb6-97b9ea221141"
      },
      "execution_count": null,
      "outputs": [
        {
          "output_type": "stream",
          "name": "stdout",
          "text": [
            "+-------------------------------------------------------------+-------------+-------------------------------------------------------------------------------------------------------------------------------------------------------------------------------------------------------------------------------------------------------------------------------------------------------------------------------------------------------------------------------------------------------------------------------------------------------------------------------------------------------------------------------+\n",
            "|title                                                        |comment_count|tags                                                                                                                                                                                                                                                                                                                                                                                                                                                                                                                           |\n",
            "+-------------------------------------------------------------+-------------+-------------------------------------------------------------------------------------------------------------------------------------------------------------------------------------------------------------------------------------------------------------------------------------------------------------------------------------------------------------------------------------------------------------------------------------------------------------------------------------------------------------------------------+\n",
            "|BTS (방탄소년단) 'FAKE LOVE' Official MV                     |1114800      |\"BIGHIT\"|\"빅히트\"|\"방탄소년단\"|\"BTS\"|\"BANGTAN\"|\"방탄\"|\"FAKE LOVE\"|\"FAKE_LOVE\"|\"fake love\"                                                                                                                                                                                                                                                                                                                                                                                                                                      |\n",
            "|BTS (방탄소년단) 'FAKE LOVE' Official MV                     |1084435      |\"BIGHIT\"|\"빅히트\"|\"방탄소년단\"|\"BTS\"|\"BANGTAN\"|\"방탄\"|\"FAKE LOVE\"|\"FAKE_LOVE\"                                                                                                                                                                                                                                                                                                                                                                                                                                                  |\n",
            "|BTS (방탄소년단) 'FAKE LOVE' Official MV                     |1040912      |\"BIGHIT\"|\"빅히트\"|\"방탄소년단\"|\"BTS\"|\"BANGTAN\"|\"방탄\"|\"FAKE LOVE\"|\"FAKE_LOVE\"                                                                                                                                                                                                                                                                                                                                                                                                                                                  |\n",
            "|BTS (방탄소년단) 'FAKE LOVE' Official MV                     |905912       |\"BIGHIT\"|\"빅히트\"|\"방탄소년단\"|\"BTS\"|\"BANGTAN\"|\"방탄\"|\"FAKE LOVE\"|\"FAKE_LOVE\"                                                                                                                                                                                                                                                                                                                                                                                                                                                  |\n",
            "|YouTube Rewind: The Shape of 2017 | #YouTubeRewind           |827755       |\"Rewind\"|\"Rewind 2017\"|\"youtube rewind 2017\"|\"#YouTubeRewind\"|\"Rewind 2016\"|\"Dan and Phil\"|\"Grace Helbig\"|\"HolaSoyGerman\"|\"Lilly Singh\"|\"Markiplier\"|\"Swoozie\"|\"Rhett Link\"|\"Liza Koshy\"|\"Dolan Twins\"|\"Lele Pons\"|\"Jake Paul\"|\"Logan Paul\"|\"KSI\"|\"Joey Graceffa\"|\"Casey Neistat\"|\"Poppy\"|\"Niana Guerrero\"|\"Daddy Yankee\"|\"Luis Fonsi\"|\"Ed Sheeran\"|\"Kendrick Lamar\"|\"Stephen Colbert\"|\"Fidget Spinners\"|\"Slime\"|\"Backpack Kid\"|\"April the Giraffe\"|\"#Rewind\"|\"Despacito\"|\"Shape of you\"|\"YouTubeRewind\"|\"I’m the One\"|\"Humble\"|\n",
            "|YouTube Rewind: The Shape of 2017 | #YouTubeRewind           |817582       |\"Rewind\"|\"Rewind 2017\"|\"youtube rewind 2017\"|\"#YouTubeRewind\"|\"Rewind 2016\"|\"Dan and Phil\"|\"Grace Helbig\"|\"HolaSoyGerman\"|\"Lilly Singh\"|\"Markiplier\"|\"Swoozie\"|\"Rhett Link\"|\"Liza Koshy\"|\"Dolan Twins\"|\"Lele Pons\"|\"Jake Paul\"|\"Logan Paul\"|\"KSI\"|\"Joey Graceffa\"|\"Casey Neistat\"|\"Poppy\"|\"Niana Guerrero\"|\"Daddy Yankee\"|\"Luis Fonsi\"|\"Ed Sheeran\"|\"Kendrick Lamar\"|\"Stephen Colbert\"|\"Fidget Spinners\"|\"Slime\"|\"Backpack Kid\"|\"April the Giraffe\"|\"#Rewind\"|\"Despacito\"|\"Shape of you\"|\"YouTubeRewind\"|\"I’m the One\"|\"Humble\"|\n",
            "|YouTube Rewind: The Shape of 2017 | #YouTubeRewind           |807558       |\"Rewind\"|\"Rewind 2017\"|\"youtube rewind 2017\"|\"#YouTubeRewind\"|\"Rewind 2016\"|\"Dan and Phil\"|\"Grace Helbig\"|\"HolaSoyGerman\"|\"Lilly Singh\"|\"Markiplier\"|\"Swoozie\"|\"Rhett Link\"|\"Liza Koshy\"|\"Dolan Twins\"|\"Lele Pons\"|\"Jake Paul\"|\"Logan Paul\"|\"KSI\"|\"Joey Graceffa\"|\"Casey Neistat\"|\"Poppy\"|\"Niana Guerrero\"|\"Daddy Yankee\"|\"Luis Fonsi\"|\"Ed Sheeran\"|\"Kendrick Lamar\"|\"Stephen Colbert\"|\"Fidget Spinners\"|\"Slime\"|\"Backpack Kid\"|\"April the Giraffe\"|\"#Rewind\"|\"Despacito\"|\"Shape of you\"|\"YouTubeRewind\"|\"I’m the One\"|\"Humble\"|\n",
            "|YouTube Rewind: The Shape of 2017 | #YouTubeRewind           |787174       |\"Rewind\"|\"Rewind 2017\"|\"youtube rewind 2017\"|\"#YouTubeRewind\"|\"Rewind 2016\"|\"Dan and Phil\"|\"Grace Helbig\"|\"HolaSoyGerman\"|\"Lilly Singh\"|\"Markiplier\"|\"Swoozie\"|\"Rhett Link\"|\"Liza Koshy\"|\"Dolan Twins\"|\"Lele Pons\"|\"Jake Paul\"|\"Logan Paul\"|\"KSI\"|\"Joey Graceffa\"|\"Casey Neistat\"|\"Poppy\"|\"Niana Guerrero\"|\"Daddy Yankee\"|\"Luis Fonsi\"|\"Ed Sheeran\"|\"Kendrick Lamar\"|\"Stephen Colbert\"|\"Fidget Spinners\"|\"Slime\"|\"Backpack Kid\"|\"April the Giraffe\"|\"#Rewind\"|\"Despacito\"|\"Shape of you\"|\"YouTubeRewind\"|\"I’m the One\"|\"Humble\"|\n",
            "|YouTube Rewind: The Shape of 2017 | #YouTubeRewind           |702784       |\"Rewind\"|\"Rewind 2017\"|\"youtube rewind 2017\"|\"#YouTubeRewind\"|\"Rewind 2016\"|\"Dan and Phil\"|\"Grace Helbig\"|\"HolaSoyGerman\"|\"Lilly Singh\"|\"Markiplier\"|\"Swoozie\"|\"Rhett Link\"|\"Liza Koshy\"|\"Dolan Twins\"|\"Lele Pons\"|\"Jake Paul\"|\"Logan Paul\"|\"KSI\"|\"Joey Graceffa\"|\"Casey Neistat\"|\"Poppy\"|\"Niana Guerrero\"|\"Daddy Yankee\"|\"Luis Fonsi\"|\"Ed Sheeran\"|\"Kendrick Lamar\"|\"Stephen Colbert\"|\"Fidget Spinners\"|\"Slime\"|\"Backpack Kid\"|\"April the Giraffe\"|\"#Rewind\"|\"Despacito\"|\"Shape of you\"|\"YouTubeRewind\"|\"I’m the One\"|\"Humble\"|\n",
            "|BTS (방탄소년단) 'FAKE LOVE' Official MV                     |692311       |\"BIGHIT\"|\"빅히트\"|\"방탄소년단\"|\"BTS\"|\"BANGTAN\"|\"방탄\"                                                                                                                                                                                                                                                                                                                                                                                                                                                                          |\n",
            "|YouTube Rewind: The Shape of 2017 | #YouTubeRewind           |682890       |\"Rewind\"|\"Rewind 2017\"|\"youtube rewind 2017\"|\"#YouTubeRewind\"|\"Rewind 2016\"|\"Dan and Phil\"|\"Grace Helbig\"|\"HolaSoyGerman\"|\"Lilly Singh\"|\"Markiplier\"|\"Swoozie\"|\"Rhett Link\"|\"Liza Koshy\"|\"Dolan Twins\"|\"Lele Pons\"|\"Jake Paul\"|\"Logan Paul\"|\"KSI\"|\"Joey Graceffa\"|\"Casey Neistat\"|\"Poppy\"|\"Niana Guerrero\"|\"Daddy Yankee\"|\"Luis Fonsi\"|\"Ed Sheeran\"|\"Kendrick Lamar\"|\"Stephen Colbert\"|\"Fidget Spinners\"|\"Slime\"|\"Backpack Kid\"|\"April the Giraffe\"|\"#Rewind\"|\"Despacito\"|\"Shape of you\"|\"YouTubeRewind\"|\"I’m the One\"|\"Humble\"|\n",
            "|Suicide: Be Here Tomorrow.                                   |625010       |\"logan paul vlog\"|\"logan paul\"|\"logan\"|\"paul\"|\"logan paul youtube\"|\"logan paul suicide\"|\"suicide prevention awareness\"|\"suicide prevention\"|\"5 steps\"|\"suicide hotline\"|\"suicide lifeline\"|\"national\"|\"kevin hines\"|\"golden gate bridge\"|\"survival\"|\"be here tomorrow\"                                                                                                                                                                                                                                                         |\n",
            "|Suicide: Be Here Tomorrow.                                   |611327       |\"logan paul vlog\"|\"logan paul\"|\"logan\"|\"paul\"|\"logan paul youtube\"|\"logan paul suicide\"|\"suicide prevention awareness\"|\"suicide prevention\"|\"5 steps\"|\"suicide hotline\"|\"suicide lifeline\"|\"national\"|\"kevin hines\"|\"golden gate bridge\"|\"survival\"|\"be here tomorrow\"                                                                                                                                                                                                                                                         |\n",
            "|Suicide: Be Here Tomorrow.                                   |607646       |\"logan paul vlog\"|\"logan paul\"|\"logan\"|\"paul\"|\"logan paul youtube\"|\"logan paul suicide\"|\"suicide prevention awareness\"|\"suicide prevention\"|\"5 steps\"|\"suicide hotline\"|\"suicide lifeline\"|\"national\"|\"kevin hines\"|\"golden gate bridge\"|\"survival\"|\"be here tomorrow\"                                                                                                                                                                                                                                                         |\n",
            "|Suicide: Be Here Tomorrow.                                   |561492       |\"logan paul vlog\"|\"logan paul\"|\"logan\"|\"paul\"|\"logan paul youtube\"|\"logan paul suicide\"|\"suicide prevention awareness\"|\"suicide prevention\"|\"5 steps\"|\"suicide hotline\"|\"suicide lifeline\"|\"national\"|\"kevin hines\"|\"golden gate bridge\"|\"survival\"|\"be here tomorrow\"                                                                                                                                                                                                                                                         |\n",
            "|BTS (방탄소년단) 'MIC Drop (Steve Aoki Remix)' Official MV   |519092       |\"BIGHIT\"|\"빅히트\"|\"방탄소년단\"|\"BTS\"|\"BANGTAN\"|\"방탄\"                                                                                                                                                                                                                                                                                                                                                                                                                                                                          |\n",
            "|BTS (방탄소년단) 'MIC Drop (Steve Aoki Remix)' Official MV   |502471       |\"BIGHIT\"|\"빅히트\"|\"방탄소년단\"|\"BTS\"|\"BANGTAN\"|\"방탄\"                                                                                                                                                                                                                                                                                                                                                                                                                                                                          |\n",
            "|BTS (방탄소년단) 'MIC Drop (Steve Aoki Remix)' Official MV   |477215       |\"BIGHIT\"|\"빅히트\"|\"방탄소년단\"|\"BTS\"|\"BANGTAN\"|\"방탄\"                                                                                                                                                                                                                                                                                                                                                                                                                                                                          |\n",
            "|YouTube Rewind: The Shape of 2017 | #YouTubeRewind           |461970       |\"Rewind\"|\"Rewind 2017\"|\"youtube rewind 2017\"|\"#YouTubeRewind\"|\"Rewind 2016\"|\"Dan and Phil\"|\"Grace Helbig\"|\"HolaSoyGerman\"|\"Lilly Singh\"|\"Markiplier\"|\"Swoozie\"|\"Rhett Link\"|\"Liza Koshy\"|\"Dolan Twins\"|\"Lele Pons\"|\"Jake Paul\"|\"Logan Paul\"|\"KSI\"|\"Joey Graceffa\"|\"Casey Neistat\"|\"Poppy\"|\"Niana Guerrero\"|\"Daddy Yankee\"|\"Luis Fonsi\"|\"Ed Sheeran\"|\"Kendrick Lamar\"|\"Stephen Colbert\"|\"Fidget Spinners\"|\"Slime\"|\"Backpack Kid\"|\"April the Giraffe\"|\"#Rewind\"|\"Despacito\"|\"Shape of you\"|\"YouTubeRewind\"|\"I’m the One\"|\"Humble\"|\n",
            "|CHẠY NGAY ĐI | RUN NOW | SƠN TÙNG M-TP | Official Music Video|445251       |\"chạy ngay đi mv\"|\"chạy ngay đi\"|\"chay ngay di mv\"|\"chay ngay di son tung\"|\"m-tp\"|\"run now mv\"|\"เรียกใช้เดี๋ยวนี้\"|\"เรียกใช้เดี๋ยวนี้ MV\"|\"mai davika\"|\"son tung\"|\"davikah\"|\"Davika\"|\"davikaclub\"|\"sơn tùng\"|\"sơn tùng 2016\"|\"sơn tùng 2018\"|\"son tung 2018\"|\"chay ngay di\"|\"chạy ngay đi sơn tùng\"|\"chạy ngay đi trailer\"|\"chay ngay di trailer\"|\"noi nay co anh\"|\"nơi này có anh\"|\"lạc trôi\"|\"lac troi mv\"                                                                                                                   |\n",
            "+-------------------------------------------------------------+-------------+-------------------------------------------------------------------------------------------------------------------------------------------------------------------------------------------------------------------------------------------------------------------------------------------------------------------------------------------------------------------------------------------------------------------------------------------------------------------------------------------------------------------------------+\n",
            "only showing top 20 rows\n",
            "\n"
          ]
        }
      ]
    },
    {
      "cell_type": "code",
      "source": [
        ""
      ],
      "metadata": {
        "id": "LuYstk3L9mle"
      },
      "execution_count": null,
      "outputs": []
    }
  ]
}